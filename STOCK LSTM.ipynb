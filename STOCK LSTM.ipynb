{
 "cells": [
  {
   "cell_type": "code",
   "execution_count": 1,
   "id": "6d800ddc",
   "metadata": {},
   "outputs": [],
   "source": [
    "#keras and tensorflow >2.0\n"
   ]
  },
  {
   "cell_type": "code",
   "execution_count": 2,
   "id": "0d1c48fc",
   "metadata": {
    "scrolled": true
   },
   "outputs": [
    {
     "name": "stdout",
     "output_type": "stream",
     "text": [
      "Requirement already satisfied: pandas_datareader in c:\\users\\mohd zeeshan\\anaconda3\\lib\\site-packages (0.10.0)\n",
      "Requirement already satisfied: lxml in c:\\users\\mohd zeeshan\\anaconda3\\lib\\site-packages (from pandas_datareader) (4.9.2)\n",
      "Requirement already satisfied: pandas>=0.23 in c:\\users\\mohd zeeshan\\appdata\\roaming\\python\\python311\\site-packages (from pandas_datareader) (1.5.3)\n",
      "Requirement already satisfied: requests>=2.19.0 in c:\\users\\mohd zeeshan\\anaconda3\\lib\\site-packages (from pandas_datareader) (2.31.0)\n",
      "Requirement already satisfied: python-dateutil>=2.8.1 in c:\\users\\mohd zeeshan\\appdata\\roaming\\python\\python311\\site-packages (from pandas>=0.23->pandas_datareader) (2.8.2)\n",
      "Requirement already satisfied: pytz>=2020.1 in c:\\users\\mohd zeeshan\\appdata\\roaming\\python\\python311\\site-packages (from pandas>=0.23->pandas_datareader) (2023.3)\n",
      "Requirement already satisfied: numpy>=1.21.0 in c:\\users\\mohd zeeshan\\anaconda3\\lib\\site-packages (from pandas>=0.23->pandas_datareader) (1.24.3)\n",
      "Requirement already satisfied: charset-normalizer<4,>=2 in c:\\users\\mohd zeeshan\\anaconda3\\lib\\site-packages (from requests>=2.19.0->pandas_datareader) (2.0.4)\n",
      "Requirement already satisfied: idna<4,>=2.5 in c:\\users\\mohd zeeshan\\anaconda3\\lib\\site-packages (from requests>=2.19.0->pandas_datareader) (3.4)\n",
      "Requirement already satisfied: urllib3<3,>=1.21.1 in c:\\users\\mohd zeeshan\\anaconda3\\lib\\site-packages (from requests>=2.19.0->pandas_datareader) (1.26.16)\n",
      "Requirement already satisfied: certifi>=2017.4.17 in c:\\users\\mohd zeeshan\\anaconda3\\lib\\site-packages (from requests>=2.19.0->pandas_datareader) (2023.7.22)\n",
      "Requirement already satisfied: six>=1.5 in c:\\users\\mohd zeeshan\\appdata\\roaming\\python\\python311\\site-packages (from python-dateutil>=2.8.1->pandas>=0.23->pandas_datareader) (1.16.0)\n",
      "Note: you may need to restart the kernel to use updated packages.\n"
     ]
    },
    {
     "name": "stderr",
     "output_type": "stream",
     "text": [
      "WARNING: Skipping C:\\Users\\MOHD ZEESHAN\\anaconda3\\Lib\\site-packages\\typing_extensions-4.7.1.dist-info due to invalid metadata entry 'name'\n",
      "WARNING: Skipping C:\\Users\\MOHD ZEESHAN\\anaconda3\\Lib\\site-packages\\typing_extensions-4.7.1.dist-info due to invalid metadata entry 'name'\n"
     ]
    }
   ],
   "source": [
    "pip install pandas_datareader"
   ]
  },
  {
   "cell_type": "code",
   "execution_count": 3,
   "id": "8b532d35",
   "metadata": {},
   "outputs": [
    {
     "name": "stderr",
     "output_type": "stream",
     "text": [
      "C:\\Users\\MOHD ZEESHAN\\anaconda3\\Lib\\site-packages\\numpy\\_distributor_init.py:30: UserWarning: loaded more than 1 DLL from .libs:\n",
      "C:\\Users\\MOHD ZEESHAN\\anaconda3\\Lib\\site-packages\\numpy\\.libs\\libopenblas64__v0.3.21-gcc_10_3_0.dll\n",
      "C:\\Users\\MOHD ZEESHAN\\anaconda3\\Lib\\site-packages\\numpy\\.libs\\libopenblas64__v0.3.23-246-g3d31191b-gcc_10_3_0.dll\n",
      "  warnings.warn(\"loaded more than 1 DLL from .libs:\"\n"
     ]
    }
   ],
   "source": [
    "import pandas_datareader as pdr\n",
    "#No module named 'pandas_datareader\n",
    "#for that we need to install pip pandas_datareader"
   ]
  },
  {
   "cell_type": "code",
   "execution_count": 4,
   "id": "1d03ef38",
   "metadata": {},
   "outputs": [
    {
     "name": "stderr",
     "output_type": "stream",
     "text": [
      "C:\\Users\\MOHD ZEESHAN\\anaconda3\\Lib\\site-packages\\pandas_datareader\\tiingo.py:234: FutureWarning: In a future version of pandas all arguments of concat except for the argument 'objs' will be keyword-only.\n",
      "  return pd.concat(dfs, self._concat_axis)\n"
     ]
    }
   ],
   "source": [
    "df=pdr.get_data_tiingo('GOOG',api_key='4f4330353168c0112fe80059c3a562f2a106c30d')"
   ]
  },
  {
   "cell_type": "code",
   "execution_count": 5,
   "id": "6880bed4",
   "metadata": {},
   "outputs": [],
   "source": [
    "df.to_csv('GOOG.csv')"
   ]
  },
  {
   "cell_type": "code",
   "execution_count": 6,
   "id": "0e292847",
   "metadata": {},
   "outputs": [],
   "source": [
    "import pandas as pd\n",
    "import numpy as np"
   ]
  },
  {
   "cell_type": "code",
   "execution_count": 7,
   "id": "ba7d2ef0",
   "metadata": {},
   "outputs": [],
   "source": [
    "df=pd.read_csv('GOOG.csv')"
   ]
  },
  {
   "cell_type": "code",
   "execution_count": 8,
   "id": "26cf64e1",
   "metadata": {
    "scrolled": true
   },
   "outputs": [
    {
     "data": {
      "text/html": [
       "<div>\n",
       "<style scoped>\n",
       "    .dataframe tbody tr th:only-of-type {\n",
       "        vertical-align: middle;\n",
       "    }\n",
       "\n",
       "    .dataframe tbody tr th {\n",
       "        vertical-align: top;\n",
       "    }\n",
       "\n",
       "    .dataframe thead th {\n",
       "        text-align: right;\n",
       "    }\n",
       "</style>\n",
       "<table border=\"1\" class=\"dataframe\">\n",
       "  <thead>\n",
       "    <tr style=\"text-align: right;\">\n",
       "      <th></th>\n",
       "      <th>symbol</th>\n",
       "      <th>date</th>\n",
       "      <th>close</th>\n",
       "      <th>high</th>\n",
       "      <th>low</th>\n",
       "      <th>open</th>\n",
       "      <th>volume</th>\n",
       "      <th>adjClose</th>\n",
       "      <th>adjHigh</th>\n",
       "      <th>adjLow</th>\n",
       "      <th>adjOpen</th>\n",
       "      <th>adjVolume</th>\n",
       "      <th>divCash</th>\n",
       "      <th>splitFactor</th>\n",
       "    </tr>\n",
       "  </thead>\n",
       "  <tbody>\n",
       "    <tr>\n",
       "      <th>0</th>\n",
       "      <td>GOOG</td>\n",
       "      <td>2018-09-05 00:00:00+00:00</td>\n",
       "      <td>1186.48</td>\n",
       "      <td>1199.01</td>\n",
       "      <td>1162.000</td>\n",
       "      <td>1193.80</td>\n",
       "      <td>2061309</td>\n",
       "      <td>59.3240</td>\n",
       "      <td>59.9505</td>\n",
       "      <td>58.10000</td>\n",
       "      <td>59.6900</td>\n",
       "      <td>41226180</td>\n",
       "      <td>0.0</td>\n",
       "      <td>1.0</td>\n",
       "    </tr>\n",
       "    <tr>\n",
       "      <th>1</th>\n",
       "      <td>GOOG</td>\n",
       "      <td>2018-09-06 00:00:00+00:00</td>\n",
       "      <td>1171.44</td>\n",
       "      <td>1186.30</td>\n",
       "      <td>1152.000</td>\n",
       "      <td>1186.30</td>\n",
       "      <td>1888467</td>\n",
       "      <td>58.5720</td>\n",
       "      <td>59.3150</td>\n",
       "      <td>57.60000</td>\n",
       "      <td>59.3150</td>\n",
       "      <td>37769340</td>\n",
       "      <td>0.0</td>\n",
       "      <td>1.0</td>\n",
       "    </tr>\n",
       "    <tr>\n",
       "      <th>2</th>\n",
       "      <td>GOOG</td>\n",
       "      <td>2018-09-07 00:00:00+00:00</td>\n",
       "      <td>1164.83</td>\n",
       "      <td>1175.26</td>\n",
       "      <td>1157.215</td>\n",
       "      <td>1158.67</td>\n",
       "      <td>1401404</td>\n",
       "      <td>58.2415</td>\n",
       "      <td>58.7630</td>\n",
       "      <td>57.86075</td>\n",
       "      <td>57.9335</td>\n",
       "      <td>28028080</td>\n",
       "      <td>0.0</td>\n",
       "      <td>1.0</td>\n",
       "    </tr>\n",
       "    <tr>\n",
       "      <th>3</th>\n",
       "      <td>GOOG</td>\n",
       "      <td>2018-09-10 00:00:00+00:00</td>\n",
       "      <td>1164.64</td>\n",
       "      <td>1174.54</td>\n",
       "      <td>1160.110</td>\n",
       "      <td>1172.19</td>\n",
       "      <td>1115796</td>\n",
       "      <td>58.2320</td>\n",
       "      <td>58.7270</td>\n",
       "      <td>58.00550</td>\n",
       "      <td>58.6095</td>\n",
       "      <td>22315920</td>\n",
       "      <td>0.0</td>\n",
       "      <td>1.0</td>\n",
       "    </tr>\n",
       "    <tr>\n",
       "      <th>4</th>\n",
       "      <td>GOOG</td>\n",
       "      <td>2018-09-11 00:00:00+00:00</td>\n",
       "      <td>1177.36</td>\n",
       "      <td>1178.68</td>\n",
       "      <td>1156.240</td>\n",
       "      <td>1161.63</td>\n",
       "      <td>1209565</td>\n",
       "      <td>58.8680</td>\n",
       "      <td>58.9340</td>\n",
       "      <td>57.81200</td>\n",
       "      <td>58.0815</td>\n",
       "      <td>24191300</td>\n",
       "      <td>0.0</td>\n",
       "      <td>1.0</td>\n",
       "    </tr>\n",
       "  </tbody>\n",
       "</table>\n",
       "</div>"
      ],
      "text/plain": [
       "  symbol                       date    close     high       low     open  \\\n",
       "0   GOOG  2018-09-05 00:00:00+00:00  1186.48  1199.01  1162.000  1193.80   \n",
       "1   GOOG  2018-09-06 00:00:00+00:00  1171.44  1186.30  1152.000  1186.30   \n",
       "2   GOOG  2018-09-07 00:00:00+00:00  1164.83  1175.26  1157.215  1158.67   \n",
       "3   GOOG  2018-09-10 00:00:00+00:00  1164.64  1174.54  1160.110  1172.19   \n",
       "4   GOOG  2018-09-11 00:00:00+00:00  1177.36  1178.68  1156.240  1161.63   \n",
       "\n",
       "    volume  adjClose  adjHigh    adjLow  adjOpen  adjVolume  divCash  \\\n",
       "0  2061309   59.3240  59.9505  58.10000  59.6900   41226180      0.0   \n",
       "1  1888467   58.5720  59.3150  57.60000  59.3150   37769340      0.0   \n",
       "2  1401404   58.2415  58.7630  57.86075  57.9335   28028080      0.0   \n",
       "3  1115796   58.2320  58.7270  58.00550  58.6095   22315920      0.0   \n",
       "4  1209565   58.8680  58.9340  57.81200  58.0815   24191300      0.0   \n",
       "\n",
       "   splitFactor  \n",
       "0          1.0  \n",
       "1          1.0  \n",
       "2          1.0  \n",
       "3          1.0  \n",
       "4          1.0  "
      ]
     },
     "execution_count": 8,
     "metadata": {},
     "output_type": "execute_result"
    }
   ],
   "source": [
    "df.head()"
   ]
  },
  {
   "cell_type": "code",
   "execution_count": 9,
   "id": "3271f132",
   "metadata": {},
   "outputs": [
    {
     "data": {
      "text/html": [
       "<div>\n",
       "<style scoped>\n",
       "    .dataframe tbody tr th:only-of-type {\n",
       "        vertical-align: middle;\n",
       "    }\n",
       "\n",
       "    .dataframe tbody tr th {\n",
       "        vertical-align: top;\n",
       "    }\n",
       "\n",
       "    .dataframe thead th {\n",
       "        text-align: right;\n",
       "    }\n",
       "</style>\n",
       "<table border=\"1\" class=\"dataframe\">\n",
       "  <thead>\n",
       "    <tr style=\"text-align: right;\">\n",
       "      <th></th>\n",
       "      <th>symbol</th>\n",
       "      <th>date</th>\n",
       "      <th>close</th>\n",
       "      <th>high</th>\n",
       "      <th>low</th>\n",
       "      <th>open</th>\n",
       "      <th>volume</th>\n",
       "      <th>adjClose</th>\n",
       "      <th>adjHigh</th>\n",
       "      <th>adjLow</th>\n",
       "      <th>adjOpen</th>\n",
       "      <th>adjVolume</th>\n",
       "      <th>divCash</th>\n",
       "      <th>splitFactor</th>\n",
       "    </tr>\n",
       "  </thead>\n",
       "  <tbody>\n",
       "    <tr>\n",
       "      <th>1252</th>\n",
       "      <td>GOOG</td>\n",
       "      <td>2023-08-28 00:00:00+00:00</td>\n",
       "      <td>131.79</td>\n",
       "      <td>133.240</td>\n",
       "      <td>130.850</td>\n",
       "      <td>132.0800</td>\n",
       "      <td>16715467</td>\n",
       "      <td>131.79</td>\n",
       "      <td>133.240</td>\n",
       "      <td>130.850</td>\n",
       "      <td>132.0800</td>\n",
       "      <td>16715467</td>\n",
       "      <td>0.0</td>\n",
       "      <td>1.0</td>\n",
       "    </tr>\n",
       "    <tr>\n",
       "      <th>1253</th>\n",
       "      <td>GOOG</td>\n",
       "      <td>2023-08-29 00:00:00+00:00</td>\n",
       "      <td>135.49</td>\n",
       "      <td>137.295</td>\n",
       "      <td>132.980</td>\n",
       "      <td>132.9981</td>\n",
       "      <td>30803265</td>\n",
       "      <td>135.49</td>\n",
       "      <td>137.295</td>\n",
       "      <td>132.980</td>\n",
       "      <td>132.9981</td>\n",
       "      <td>30803265</td>\n",
       "      <td>0.0</td>\n",
       "      <td>1.0</td>\n",
       "    </tr>\n",
       "    <tr>\n",
       "      <th>1254</th>\n",
       "      <td>GOOG</td>\n",
       "      <td>2023-08-30 00:00:00+00:00</td>\n",
       "      <td>136.93</td>\n",
       "      <td>137.250</td>\n",
       "      <td>135.021</td>\n",
       "      <td>135.5700</td>\n",
       "      <td>21773356</td>\n",
       "      <td>136.93</td>\n",
       "      <td>137.250</td>\n",
       "      <td>135.021</td>\n",
       "      <td>135.5700</td>\n",
       "      <td>21773356</td>\n",
       "      <td>0.0</td>\n",
       "      <td>1.0</td>\n",
       "    </tr>\n",
       "    <tr>\n",
       "      <th>1255</th>\n",
       "      <td>GOOG</td>\n",
       "      <td>2023-08-31 00:00:00+00:00</td>\n",
       "      <td>137.35</td>\n",
       "      <td>138.400</td>\n",
       "      <td>136.820</td>\n",
       "      <td>137.0500</td>\n",
       "      <td>28147850</td>\n",
       "      <td>137.35</td>\n",
       "      <td>138.400</td>\n",
       "      <td>136.820</td>\n",
       "      <td>137.0500</td>\n",
       "      <td>28147850</td>\n",
       "      <td>0.0</td>\n",
       "      <td>1.0</td>\n",
       "    </tr>\n",
       "    <tr>\n",
       "      <th>1256</th>\n",
       "      <td>GOOG</td>\n",
       "      <td>2023-09-01 00:00:00+00:00</td>\n",
       "      <td>136.80</td>\n",
       "      <td>138.580</td>\n",
       "      <td>135.940</td>\n",
       "      <td>138.4300</td>\n",
       "      <td>16671647</td>\n",
       "      <td>136.80</td>\n",
       "      <td>138.580</td>\n",
       "      <td>135.940</td>\n",
       "      <td>138.4300</td>\n",
       "      <td>16671647</td>\n",
       "      <td>0.0</td>\n",
       "      <td>1.0</td>\n",
       "    </tr>\n",
       "  </tbody>\n",
       "</table>\n",
       "</div>"
      ],
      "text/plain": [
       "     symbol                       date   close     high      low      open  \\\n",
       "1252   GOOG  2023-08-28 00:00:00+00:00  131.79  133.240  130.850  132.0800   \n",
       "1253   GOOG  2023-08-29 00:00:00+00:00  135.49  137.295  132.980  132.9981   \n",
       "1254   GOOG  2023-08-30 00:00:00+00:00  136.93  137.250  135.021  135.5700   \n",
       "1255   GOOG  2023-08-31 00:00:00+00:00  137.35  138.400  136.820  137.0500   \n",
       "1256   GOOG  2023-09-01 00:00:00+00:00  136.80  138.580  135.940  138.4300   \n",
       "\n",
       "        volume  adjClose  adjHigh   adjLow   adjOpen  adjVolume  divCash  \\\n",
       "1252  16715467    131.79  133.240  130.850  132.0800   16715467      0.0   \n",
       "1253  30803265    135.49  137.295  132.980  132.9981   30803265      0.0   \n",
       "1254  21773356    136.93  137.250  135.021  135.5700   21773356      0.0   \n",
       "1255  28147850    137.35  138.400  136.820  137.0500   28147850      0.0   \n",
       "1256  16671647    136.80  138.580  135.940  138.4300   16671647      0.0   \n",
       "\n",
       "      splitFactor  \n",
       "1252          1.0  \n",
       "1253          1.0  \n",
       "1254          1.0  \n",
       "1255          1.0  \n",
       "1256          1.0  "
      ]
     },
     "execution_count": 9,
     "metadata": {},
     "output_type": "execute_result"
    }
   ],
   "source": [
    "df.tail()"
   ]
  },
  {
   "cell_type": "code",
   "execution_count": 10,
   "id": "3e9893fe",
   "metadata": {},
   "outputs": [],
   "source": [
    "\n",
    "df2=df.reset_index()['close']"
   ]
  },
  {
   "cell_type": "code",
   "execution_count": 11,
   "id": "6fa4dc06",
   "metadata": {},
   "outputs": [
    {
     "data": {
      "text/plain": [
       "0    1186.48\n",
       "1    1171.44\n",
       "2    1164.83\n",
       "3    1164.64\n",
       "4    1177.36\n",
       "Name: close, dtype: float64"
      ]
     },
     "execution_count": 11,
     "metadata": {},
     "output_type": "execute_result"
    }
   ],
   "source": [
    "df2.head()"
   ]
  },
  {
   "cell_type": "code",
   "execution_count": 12,
   "id": "28803392",
   "metadata": {},
   "outputs": [
    {
     "data": {
      "text/plain": [
       "1252    131.79\n",
       "1253    135.49\n",
       "1254    136.93\n",
       "1255    137.35\n",
       "1256    136.80\n",
       "Name: close, dtype: float64"
      ]
     },
     "execution_count": 12,
     "metadata": {},
     "output_type": "execute_result"
    }
   ],
   "source": [
    "df2[1252:]"
   ]
  },
  {
   "cell_type": "code",
   "execution_count": 13,
   "id": "f1828bb7",
   "metadata": {},
   "outputs": [],
   "source": [
    "df1=df.reset_index()['high']"
   ]
  },
  {
   "cell_type": "code",
   "execution_count": 14,
   "id": "78820f99",
   "metadata": {},
   "outputs": [
    {
     "data": {
      "text/plain": [
       "1252    133.240\n",
       "1253    137.295\n",
       "1254    137.250\n",
       "1255    138.400\n",
       "1256    138.580\n",
       "Name: high, dtype: float64"
      ]
     },
     "execution_count": 14,
     "metadata": {},
     "output_type": "execute_result"
    }
   ],
   "source": [
    "df1[1252:]"
   ]
  },
  {
   "cell_type": "code",
   "execution_count": 15,
   "id": "2f2ae89d",
   "metadata": {},
   "outputs": [
    {
     "data": {
      "text/plain": [
       "(1257,)"
      ]
     },
     "execution_count": 15,
     "metadata": {},
     "output_type": "execute_result"
    }
   ],
   "source": [
    "df1.shape"
   ]
  },
  {
   "cell_type": "code",
   "execution_count": 16,
   "id": "8596c996",
   "metadata": {},
   "outputs": [
    {
     "data": {
      "text/plain": [
       "[<matplotlib.lines.Line2D at 0x231da8d27d0>]"
      ]
     },
     "execution_count": 16,
     "metadata": {},
     "output_type": "execute_result"
    },
    {
     "data": {
      "image/png": "[encoded data removed]",
      "text/plain": [
       "<Figure size 640x480 with 1 Axes>"
      ]
     },
     "metadata": {},
     "output_type": "display_data"
    }
   ],
   "source": [
    "import matplotlib.pyplot as plt\n",
    "plt.plot(df1)"
   ]
  },
  {
   "cell_type": "code",
   "execution_count": 17,
   "id": "c610aa1e",
   "metadata": {},
   "outputs": [
    {
     "data": {
      "text/plain": [
       "[<matplotlib.lines.Line2D at 0x231db0d49d0>]"
      ]
     },
     "execution_count": 17,
     "metadata": {},
     "output_type": "execute_result"
    },
    {
     "data": {
      "image/png": "[encoded data removed]",
      "text/plain": [
       "<Figure size 640x480 with 1 Axes>"
      ]
     },
     "metadata": {},
     "output_type": "display_data"
    }
   ],
   "source": [
    "plt.plot(df2)"
   ]
  },
  {
   "cell_type": "code",
   "execution_count": 18,
   "id": "2a8974da",
   "metadata": {},
   "outputs": [],
   "source": [
    "#lstm are sensitive to the scale of the data . so we apply MinMax scalar\n"
   ]
  },
  {
   "cell_type": "code",
   "execution_count": 19,
   "id": "631b2143",
   "metadata": {},
   "outputs": [],
   "source": [
    "#import numpy as np"
   ]
  },
  {
   "cell_type": "code",
   "execution_count": 20,
   "id": "4746d2bc",
   "metadata": {},
   "outputs": [
    {
     "data": {
      "text/plain": [
       "0       1199.010\n",
       "1       1186.300\n",
       "2       1175.260\n",
       "3       1174.540\n",
       "4       1178.680\n",
       "          ...   \n",
       "1252     133.240\n",
       "1253     137.295\n",
       "1254     137.250\n",
       "1255     138.400\n",
       "1256     138.580\n",
       "Name: high, Length: 1257, dtype: float64"
      ]
     },
     "execution_count": 20,
     "metadata": {},
     "output_type": "execute_result"
    }
   ],
   "source": [
    "df1"
   ]
  },
  {
   "cell_type": "code",
   "execution_count": 21,
   "id": "68ad3727",
   "metadata": {},
   "outputs": [],
   "source": [
    "from sklearn.preprocessing import MinMaxScaler\n",
    "scaler=MinMaxScaler(feature_range=(0,1))\n",
    "df1=scaler.fit_transform(np.array(df1).reshape(-1,1))"
   ]
  },
  {
   "cell_type": "code",
   "execution_count": 22,
   "id": "d6196bf0",
   "metadata": {},
   "outputs": [
    {
     "data": {
      "text/plain": [
       "array([[0.37640968],\n",
       "       [0.37210915],\n",
       "       [0.36837368],\n",
       "       ...,\n",
       "       [0.01715475],\n",
       "       [0.01754386],\n",
       "       [0.01760476]])"
      ]
     },
     "execution_count": 22,
     "metadata": {},
     "output_type": "execute_result"
    }
   ],
   "source": [
    "df1"
   ]
  },
  {
   "cell_type": "code",
   "execution_count": 23,
   "id": "07ca3096",
   "metadata": {},
   "outputs": [],
   "source": [
    "#pehle df1 ki values float simple thi dekh sakte hai but after preprocessing wo values change ho gyi hai a [ARRAYS ]me"
   ]
  },
  {
   "cell_type": "code",
   "execution_count": 24,
   "id": "f8765d55",
   "metadata": {},
   "outputs": [
    {
     "data": {
      "text/plain": [
       "(1257, 1)"
      ]
     },
     "execution_count": 24,
     "metadata": {},
     "output_type": "execute_result"
    }
   ],
   "source": [
    "df1.shape"
   ]
  },
  {
   "cell_type": "code",
   "execution_count": 25,
   "id": "ea3b977e",
   "metadata": {},
   "outputs": [],
   "source": [
    "#splitting dataset into train and test"
   ]
  },
  {
   "cell_type": "code",
   "execution_count": 26,
   "id": "2cea6656",
   "metadata": {},
   "outputs": [],
   "source": [
    "#methods of train test are the following\n",
    "#1- cross validation\n",
    "#2- random seed\n",
    "\n",
    "# these works very well in linear regression models\n",
    "\n",
    "##but in case of time series data means day2 depends on day 1 similarly day 5 depends on day4 \n",
    "#so 70 percent ko man lenge training and remaining ko test"
   ]
  },
  {
   "cell_type": "code",
   "execution_count": 27,
   "id": "1fcc3a01",
   "metadata": {},
   "outputs": [],
   "source": [
    "#splitting dataset into train and test\n",
    "training_size=int(len(df1)*0.65)\n",
    "test_size=len(df1)-training_size\n",
    "train_data,test_data=df1[0:training_size,:],df1[training_size:len(df1),:1]"
   ]
  },
  {
   "cell_type": "code",
   "execution_count": 28,
   "id": "2428a6b0",
   "metadata": {},
   "outputs": [
    {
     "data": {
      "text/plain": [
       "(817, 440)"
      ]
     },
     "execution_count": 28,
     "metadata": {},
     "output_type": "execute_result"
    }
   ],
   "source": [
    "training_size,test_size"
   ]
  },
  {
   "cell_type": "code",
   "execution_count": 29,
   "id": "511d4eb2",
   "metadata": {},
   "outputs": [
    {
     "data": {
      "text/plain": [
       "817"
      ]
     },
     "execution_count": 29,
     "metadata": {},
     "output_type": "execute_result"
    }
   ],
   "source": [
    "training_size"
   ]
  },
  {
   "cell_type": "code",
   "execution_count": 30,
   "id": "cd8d994e",
   "metadata": {},
   "outputs": [],
   "source": [
    "import numpy\n",
    "#convert an array of values into dataset matrix\n",
    "def create_dataset(dataset, time_step=1):\n",
    "    dataX, dataY=[],[]\n",
    "    for i in range(len(dataset)-time_step-1):\n",
    "        a=dataset[i:(i+time_step),0] ##i=0 , 0,1,2,3\n",
    "        dataX.append(a)\n",
    "        dataY.append(dataset[i+time_step, 0])\n",
    "    return numpy.array(dataX),numpy.array(dataY)"
   ]
  },
  {
   "cell_type": "code",
   "execution_count": 31,
   "id": "111ca0f0",
   "metadata": {},
   "outputs": [],
   "source": [
    "#reshape into X=1,t+1,t+2,t+3 and y=t+4\n",
    "time_step=100\n",
    "X_train, y_train =create_dataset(train_data, time_step)\n",
    "X_test, ytest= create_dataset(test_data, time_step)"
   ]
  },
  {
   "cell_type": "code",
   "execution_count": 32,
   "id": "7c3ad9c7",
   "metadata": {},
   "outputs": [
    {
     "name": "stdout",
     "output_type": "stream",
     "text": [
      "[[0.37640968 0.37210915 0.36837368 ... 0.34087872 0.33715678 0.33450067]\n",
      " [0.37210915 0.36837368 0.36813006 ... 0.33715678 0.33450067 0.33986364]\n",
      " [0.36837368 0.36813006 0.36953087 ... 0.33450067 0.33986364 0.34877261]\n",
      " ...\n",
      " [0.85477619 0.85066572 0.84942733 ... 0.99082712 0.9701839  0.96548749]\n",
      " [0.85066572 0.84942733 0.8556565  ... 0.9701839  0.96548749 0.95396315]\n",
      " [0.84942733 0.8556565  0.86426429 ... 0.96548749 0.95396315 0.96455362]]\n"
     ]
    }
   ],
   "source": [
    "print(X_train)"
   ]
  },
  {
   "cell_type": "code",
   "execution_count": 33,
   "id": "740600d9",
   "metadata": {},
   "outputs": [
    {
     "name": "stdout",
     "output_type": "stream",
     "text": [
      "(339, 100)\n",
      "(339,)\n"
     ]
    },
    {
     "data": {
      "text/plain": [
       "(None, None)"
      ]
     },
     "execution_count": 33,
     "metadata": {},
     "output_type": "execute_result"
    }
   ],
   "source": [
    "print(X_test.shape),print(ytest.shape)"
   ]
  },
  {
   "cell_type": "code",
   "execution_count": 34,
   "id": "d5378955",
   "metadata": {},
   "outputs": [],
   "source": [
    "#reshape input to be[samples, time steps, features] which is required for lstm\n",
    "X_train= X_train.reshape(X_train.shape[0],X_train.shape[1],1)\n",
    "X_test=X_test.reshape(X_test.shape[0],X_test.shape[1],1)"
   ]
  },
  {
   "cell_type": "code",
   "execution_count": 35,
   "id": "5d0837f2",
   "metadata": {},
   "outputs": [],
   "source": [
    "##conda install tensorflow"
   ]
  },
  {
   "cell_type": "code",
   "execution_count": 36,
   "id": "bd0d5e4f",
   "metadata": {
    "collapsed": true
   },
   "outputs": [
    {
     "name": "stdout",
     "output_type": "stream",
     "text": [
      "Requirement already satisfied: tensorflow in c:\\users\\mohd zeeshan\\anaconda3\\lib\\site-packages (2.13.0)Note: you may need to restart the kernel to use updated packages.\n",
      "\n",
      "Requirement already satisfied: tensorflow-intel==2.13.0 in c:\\users\\mohd zeeshan\\anaconda3\\lib\\site-packages (from tensorflow) (2.13.0)\n",
      "Requirement already satisfied: absl-py>=1.0.0 in c:\\users\\mohd zeeshan\\anaconda3\\lib\\site-packages (from tensorflow-intel==2.13.0->tensorflow) (1.4.0)\n",
      "Requirement already satisfied: astunparse>=1.6.0 in c:\\users\\mohd zeeshan\\anaconda3\\lib\\site-packages (from tensorflow-intel==2.13.0->tensorflow) (1.6.3)\n",
      "Requirement already satisfied: flatbuffers>=23.1.21 in c:\\users\\mohd zeeshan\\anaconda3\\lib\\site-packages (from tensorflow-intel==2.13.0->tensorflow) (23.5.26)\n",
      "Requirement already satisfied: gast<=0.4.0,>=0.2.1 in c:\\users\\mohd zeeshan\\anaconda3\\lib\\site-packages (from tensorflow-intel==2.13.0->tensorflow) (0.4.0)\n",
      "Requirement already satisfied: google-pasta>=0.1.1 in c:\\users\\mohd zeeshan\\anaconda3\\lib\\site-packages (from tensorflow-intel==2.13.0->tensorflow) (0.2.0)\n",
      "Requirement already satisfied: h5py>=2.9.0 in c:\\users\\mohd zeeshan\\anaconda3\\lib\\site-packages (from tensorflow-intel==2.13.0->tensorflow) (3.9.0)\n",
      "Requirement already satisfied: libclang>=13.0.0 in c:\\users\\mohd zeeshan\\anaconda3\\lib\\site-packages (from tensorflow-intel==2.13.0->tensorflow) (16.0.6)\n",
      "Requirement already satisfied: numpy<=1.24.3,>=1.22 in c:\\users\\mohd zeeshan\\anaconda3\\lib\\site-packages (from tensorflow-intel==2.13.0->tensorflow) (1.24.3)\n",
      "Requirement already satisfied: opt-einsum>=2.3.2 in c:\\users\\mohd zeeshan\\anaconda3\\lib\\site-packages (from tensorflow-intel==2.13.0->tensorflow) (3.3.0)\n",
      "Requirement already satisfied: packaging in c:\\users\\mohd zeeshan\\anaconda3\\lib\\site-packages (from tensorflow-intel==2.13.0->tensorflow) (23.0)\n",
      "Requirement already satisfied: protobuf!=4.21.0,!=4.21.1,!=4.21.2,!=4.21.3,!=4.21.4,!=4.21.5,<5.0.0dev,>=3.20.3 in c:\\users\\mohd zeeshan\\anaconda3\\lib\\site-packages (from tensorflow-intel==2.13.0->tensorflow) (4.24.1)\n",
      "Requirement already satisfied: setuptools in c:\\users\\mohd zeeshan\\anaconda3\\lib\\site-packages (from tensorflow-intel==2.13.0->tensorflow) (68.0.0)\n",
      "Requirement already satisfied: six>=1.12.0 in c:\\users\\mohd zeeshan\\appdata\\roaming\\python\\python311\\site-packages (from tensorflow-intel==2.13.0->tensorflow) (1.16.0)\n",
      "Requirement already satisfied: termcolor>=1.1.0 in c:\\users\\mohd zeeshan\\anaconda3\\lib\\site-packages (from tensorflow-intel==2.13.0->tensorflow) (2.3.0)\n",
      "Requirement already satisfied: typing-extensions<4.6.0,>=3.6.6 in c:\\users\\mohd zeeshan\\anaconda3\\lib\\site-packages (from tensorflow-intel==2.13.0->tensorflow) (4.5.0)\n",
      "Requirement already satisfied: wrapt>=1.11.0 in c:\\users\\mohd zeeshan\\anaconda3\\lib\\site-packages (from tensorflow-intel==2.13.0->tensorflow) (1.14.1)\n",
      "Requirement already satisfied: grpcio<2.0,>=1.24.3 in c:\\users\\mohd zeeshan\\anaconda3\\lib\\site-packages (from tensorflow-intel==2.13.0->tensorflow) (1.57.0)\n",
      "Requirement already satisfied: tensorboard<2.14,>=2.13 in c:\\users\\mohd zeeshan\\anaconda3\\lib\\site-packages (from tensorflow-intel==2.13.0->tensorflow) (2.13.0)\n",
      "Requirement already satisfied: tensorflow-estimator<2.14,>=2.13.0 in c:\\users\\mohd zeeshan\\anaconda3\\lib\\site-packages (from tensorflow-intel==2.13.0->tensorflow) (2.13.0)\n",
      "Requirement already satisfied: keras<2.14,>=2.13.1 in c:\\users\\mohd zeeshan\\anaconda3\\lib\\site-packages (from tensorflow-intel==2.13.0->tensorflow) (2.13.1)\n",
      "Requirement already satisfied: tensorflow-io-gcs-filesystem>=0.23.1 in c:\\users\\mohd zeeshan\\anaconda3\\lib\\site-packages (from tensorflow-intel==2.13.0->tensorflow) (0.31.0)\n",
      "Requirement already satisfied: wheel<1.0,>=0.23.0 in c:\\users\\mohd zeeshan\\anaconda3\\lib\\site-packages (from astunparse>=1.6.0->tensorflow-intel==2.13.0->tensorflow) (0.38.4)\n",
      "Requirement already satisfied: google-auth<3,>=1.6.3 in c:\\users\\mohd zeeshan\\anaconda3\\lib\\site-packages (from tensorboard<2.14,>=2.13->tensorflow-intel==2.13.0->tensorflow) (2.22.0)\n",
      "Requirement already satisfied: google-auth-oauthlib<1.1,>=0.5 in c:\\users\\mohd zeeshan\\anaconda3\\lib\\site-packages (from tensorboard<2.14,>=2.13->tensorflow-intel==2.13.0->tensorflow) (1.0.0)\n",
      "Requirement already satisfied: markdown>=2.6.8 in c:\\users\\mohd zeeshan\\anaconda3\\lib\\site-packages (from tensorboard<2.14,>=2.13->tensorflow-intel==2.13.0->tensorflow) (3.4.1)\n",
      "Requirement already satisfied: requests<3,>=2.21.0 in c:\\users\\mohd zeeshan\\anaconda3\\lib\\site-packages (from tensorboard<2.14,>=2.13->tensorflow-intel==2.13.0->tensorflow) (2.31.0)\n",
      "Requirement already satisfied: tensorboard-data-server<0.8.0,>=0.7.0 in c:\\users\\mohd zeeshan\\anaconda3\\lib\\site-packages (from tensorboard<2.14,>=2.13->tensorflow-intel==2.13.0->tensorflow) (0.7.1)\n",
      "Requirement already satisfied: werkzeug>=1.0.1 in c:\\users\\mohd zeeshan\\appdata\\roaming\\python\\python311\\site-packages (from tensorboard<2.14,>=2.13->tensorflow-intel==2.13.0->tensorflow) (2.3.7)\n",
      "Requirement already satisfied: cachetools<6.0,>=2.0.0 in c:\\users\\mohd zeeshan\\anaconda3\\lib\\site-packages (from google-auth<3,>=1.6.3->tensorboard<2.14,>=2.13->tensorflow-intel==2.13.0->tensorflow) (5.3.1)\n",
      "Requirement already satisfied: pyasn1-modules>=0.2.1 in c:\\users\\mohd zeeshan\\anaconda3\\lib\\site-packages (from google-auth<3,>=1.6.3->tensorboard<2.14,>=2.13->tensorflow-intel==2.13.0->tensorflow) (0.2.8)\n",
      "Requirement already satisfied: rsa<5,>=3.1.4 in c:\\users\\mohd zeeshan\\anaconda3\\lib\\site-packages (from google-auth<3,>=1.6.3->tensorboard<2.14,>=2.13->tensorflow-intel==2.13.0->tensorflow) (4.9)\n",
      "Requirement already satisfied: urllib3<2.0 in c:\\users\\mohd zeeshan\\anaconda3\\lib\\site-packages (from google-auth<3,>=1.6.3->tensorboard<2.14,>=2.13->tensorflow-intel==2.13.0->tensorflow) (1.26.16)\n",
      "Requirement already satisfied: requests-oauthlib>=0.7.0 in c:\\users\\mohd zeeshan\\anaconda3\\lib\\site-packages (from google-auth-oauthlib<1.1,>=0.5->tensorboard<2.14,>=2.13->tensorflow-intel==2.13.0->tensorflow) (1.3.1)\n",
      "Requirement already satisfied: charset-normalizer<4,>=2 in c:\\users\\mohd zeeshan\\anaconda3\\lib\\site-packages (from requests<3,>=2.21.0->tensorboard<2.14,>=2.13->tensorflow-intel==2.13.0->tensorflow) (2.0.4)\n",
      "Requirement already satisfied: idna<4,>=2.5 in c:\\users\\mohd zeeshan\\anaconda3\\lib\\site-packages (from requests<3,>=2.21.0->tensorboard<2.14,>=2.13->tensorflow-intel==2.13.0->tensorflow) (3.4)\n",
      "Requirement already satisfied: certifi>=2017.4.17 in c:\\users\\mohd zeeshan\\anaconda3\\lib\\site-packages (from requests<3,>=2.21.0->tensorboard<2.14,>=2.13->tensorflow-intel==2.13.0->tensorflow) (2023.7.22)\n",
      "Requirement already satisfied: MarkupSafe>=2.1.1 in c:\\users\\mohd zeeshan\\appdata\\roaming\\python\\python311\\site-packages (from werkzeug>=1.0.1->tensorboard<2.14,>=2.13->tensorflow-intel==2.13.0->tensorflow) (2.1.3)\n",
      "Requirement already satisfied: pyasn1<0.5.0,>=0.4.6 in c:\\users\\mohd zeeshan\\anaconda3\\lib\\site-packages (from pyasn1-modules>=0.2.1->google-auth<3,>=1.6.3->tensorboard<2.14,>=2.13->tensorflow-intel==2.13.0->tensorflow) (0.4.8)\n",
      "Requirement already satisfied: oauthlib>=3.0.0 in c:\\users\\mohd zeeshan\\anaconda3\\lib\\site-packages (from requests-oauthlib>=0.7.0->google-auth-oauthlib<1.1,>=0.5->tensorboard<2.14,>=2.13->tensorflow-intel==2.13.0->tensorflow) (3.2.2)\n"
     ]
    },
    {
     "name": "stderr",
     "output_type": "stream",
     "text": [
      "WARNING: Skipping C:\\Users\\MOHD ZEESHAN\\anaconda3\\Lib\\site-packages\\typing_extensions-4.7.1.dist-info due to invalid metadata entry 'name'\n",
      "WARNING: Skipping C:\\Users\\MOHD ZEESHAN\\anaconda3\\Lib\\site-packages\\typing_extensions-4.7.1.dist-info due to invalid metadata entry 'name'\n"
     ]
    }
   ],
   "source": [
    "pip install tensorflow"
   ]
  },
  {
   "cell_type": "code",
   "execution_count": 37,
   "id": "ffa9b0fa",
   "metadata": {},
   "outputs": [
    {
     "name": "stdout",
     "output_type": "stream",
     "text": [
      "Requirement already satisfied: keras in c:\\users\\mohd zeeshan\\anaconda3\\lib\\site-packages (2.13.1)\n"
     ]
    },
    {
     "name": "stderr",
     "output_type": "stream",
     "text": [
      "WARNING: Skipping C:\\Users\\MOHD ZEESHAN\\anaconda3\\Lib\\site-packages\\typing_extensions-4.7.1.dist-info due to invalid metadata entry 'name'\n",
      "WARNING: Skipping C:\\Users\\MOHD ZEESHAN\\anaconda3\\Lib\\site-packages\\typing_extensions-4.7.1.dist-info due to invalid metadata entry 'name'\n"
     ]
    }
   ],
   "source": [
    "!pip install keras  "
   ]
  },
  {
   "cell_type": "code",
   "execution_count": 40,
   "id": "8026b943",
   "metadata": {
    "scrolled": true
   },
   "outputs": [],
   "source": [
    "##create the stacked LSTM model\n",
    "from tensorflow.keras.models import Sequential\n",
    "from tensorflow.keras.layers import Dense\n",
    "from tensorflow.keras.layers import LSTM\n"
   ]
  },
  {
   "cell_type": "code",
   "execution_count": 42,
   "id": "bfaf8795",
   "metadata": {},
   "outputs": [],
   "source": [
    "model=Sequential()\n",
    "model.add(LSTM(50,return_sequences=True,input_shape=(100,1)))\n",
    "model.add(LSTM(50,return_sequences=True))\n",
    "model.add(LSTM(50))\n",
    "model.add(Dense(1))\n",
    "model.compile(loss='mean_squared_error',optimizer='adam')"
   ]
  },
  {
   "cell_type": "code",
   "execution_count": 43,
   "id": "8c513069",
   "metadata": {
    "scrolled": true
   },
   "outputs": [
    {
     "name": "stdout",
     "output_type": "stream",
     "text": [
      "Model: \"sequential_1\"\n",
      "_________________________________________________________________\n",
      " Layer (type)                Output Shape              Param #   \n",
      "=================================================================\n",
      " lstm (LSTM)                 (None, 100, 50)           10400     \n",
      "                                                                 \n",
      " lstm_1 (LSTM)               (None, 100, 50)           20200     \n",
      "                                                                 \n",
      " lstm_2 (LSTM)               (None, 50)                20200     \n",
      "                                                                 \n",
      " dense (Dense)               (None, 1)                 51        \n",
      "                                                                 \n",
      "=================================================================\n",
      "Total params: 50851 (198.64 KB)\n",
      "Trainable params: 50851 (198.64 KB)\n",
      "Non-trainable params: 0 (0.00 Byte)\n",
      "_________________________________________________________________\n"
     ]
    }
   ],
   "source": [
    "model.summary()"
   ]
  },
  {
   "cell_type": "code",
   "execution_count": 44,
   "id": "772c2c11",
   "metadata": {
    "collapsed": true
   },
   "outputs": [
    {
     "name": "stdout",
     "output_type": "stream",
     "text": [
      "Epoch 1/100\n",
      "12/12 [==============================] - 6s 186ms/step - loss: 0.0659 - val_loss: 0.0212\n",
      "Epoch 2/100\n",
      "12/12 [==============================] - 1s 100ms/step - loss: 0.0132 - val_loss: 0.0337\n",
      "Epoch 3/100\n",
      "12/12 [==============================] - 1s 100ms/step - loss: 0.0046 - val_loss: 0.0209\n",
      "Epoch 4/100\n",
      "12/12 [==============================] - 1s 99ms/step - loss: 0.0019 - val_loss: 0.0160\n",
      "Epoch 5/100\n",
      "12/12 [==============================] - 1s 101ms/step - loss: 7.5703e-04 - val_loss: 0.0155\n",
      "Epoch 6/100\n",
      "12/12 [==============================] - 1s 100ms/step - loss: 6.2851e-04 - val_loss: 0.0155\n",
      "Epoch 7/100\n",
      "12/12 [==============================] - 1s 98ms/step - loss: 6.1375e-04 - val_loss: 0.0156\n",
      "Epoch 8/100\n",
      "12/12 [==============================] - 1s 99ms/step - loss: 5.9249e-04 - val_loss: 0.0154\n",
      "Epoch 9/100\n",
      "12/12 [==============================] - 1s 99ms/step - loss: 6.0226e-04 - val_loss: 0.0156\n",
      "Epoch 10/100\n",
      "12/12 [==============================] - 1s 98ms/step - loss: 5.8129e-04 - val_loss: 0.0157\n",
      "Epoch 11/100\n",
      "12/12 [==============================] - 1s 100ms/step - loss: 5.9257e-04 - val_loss: 0.0160\n",
      "Epoch 12/100\n",
      "12/12 [==============================] - 1s 98ms/step - loss: 6.2177e-04 - val_loss: 0.0159\n",
      "Epoch 13/100\n",
      "12/12 [==============================] - 1s 99ms/step - loss: 5.9024e-04 - val_loss: 0.0161\n",
      "Epoch 14/100\n",
      "12/12 [==============================] - 1s 100ms/step - loss: 5.8900e-04 - val_loss: 0.0156\n",
      "Epoch 15/100\n",
      "12/12 [==============================] - 1s 100ms/step - loss: 5.7120e-04 - val_loss: 0.0157\n",
      "Epoch 16/100\n",
      "12/12 [==============================] - 1s 99ms/step - loss: 6.1035e-04 - val_loss: 0.0153\n",
      "Epoch 17/100\n",
      "12/12 [==============================] - 1s 100ms/step - loss: 6.1336e-04 - val_loss: 0.0147\n",
      "Epoch 18/100\n",
      "12/12 [==============================] - 1s 98ms/step - loss: 5.7537e-04 - val_loss: 0.0152\n",
      "Epoch 19/100\n",
      "12/12 [==============================] - 1s 97ms/step - loss: 5.6382e-04 - val_loss: 0.0147\n",
      "Epoch 20/100\n",
      "12/12 [==============================] - 1s 99ms/step - loss: 5.8433e-04 - val_loss: 0.0144\n",
      "Epoch 21/100\n",
      "12/12 [==============================] - 1s 99ms/step - loss: 6.1747e-04 - val_loss: 0.0154\n",
      "Epoch 22/100\n",
      "12/12 [==============================] - 1s 98ms/step - loss: 6.0943e-04 - val_loss: 0.0139\n",
      "Epoch 23/100\n",
      "12/12 [==============================] - 1s 99ms/step - loss: 6.0155e-04 - val_loss: 0.0146\n",
      "Epoch 24/100\n",
      "12/12 [==============================] - 1s 99ms/step - loss: 6.2703e-04 - val_loss: 0.0152\n",
      "Epoch 25/100\n",
      "12/12 [==============================] - 1s 98ms/step - loss: 5.5856e-04 - val_loss: 0.0146\n",
      "Epoch 26/100\n",
      "12/12 [==============================] - 1s 98ms/step - loss: 5.5066e-04 - val_loss: 0.0142\n",
      "Epoch 27/100\n",
      "12/12 [==============================] - 1s 98ms/step - loss: 5.7083e-04 - val_loss: 0.0141\n",
      "Epoch 28/100\n",
      "12/12 [==============================] - 1s 98ms/step - loss: 5.6146e-04 - val_loss: 0.0149\n",
      "Epoch 29/100\n",
      "12/12 [==============================] - 1s 99ms/step - loss: 5.8171e-04 - val_loss: 0.0141\n",
      "Epoch 30/100\n",
      "12/12 [==============================] - 1s 100ms/step - loss: 5.4495e-04 - val_loss: 0.0142\n",
      "Epoch 31/100\n",
      "12/12 [==============================] - 1s 99ms/step - loss: 5.7881e-04 - val_loss: 0.0132\n",
      "Epoch 32/100\n",
      "12/12 [==============================] - 1s 99ms/step - loss: 5.7994e-04 - val_loss: 0.0143\n",
      "Epoch 33/100\n",
      "12/12 [==============================] - 1s 99ms/step - loss: 5.6046e-04 - val_loss: 0.0138\n",
      "Epoch 34/100\n",
      "12/12 [==============================] - 1s 99ms/step - loss: 5.4810e-04 - val_loss: 0.0133\n",
      "Epoch 35/100\n",
      "12/12 [==============================] - 1s 99ms/step - loss: 5.6949e-04 - val_loss: 0.0137\n",
      "Epoch 36/100\n",
      "12/12 [==============================] - 1s 99ms/step - loss: 5.3568e-04 - val_loss: 0.0128\n",
      "Epoch 37/100\n",
      "12/12 [==============================] - 1s 99ms/step - loss: 5.0591e-04 - val_loss: 0.0129\n",
      "Epoch 38/100\n",
      "12/12 [==============================] - 1s 98ms/step - loss: 5.7215e-04 - val_loss: 0.0134\n",
      "Epoch 39/100\n",
      "12/12 [==============================] - 1s 97ms/step - loss: 5.2562e-04 - val_loss: 0.0128\n",
      "Epoch 40/100\n",
      "12/12 [==============================] - 1s 99ms/step - loss: 5.1634e-04 - val_loss: 0.0122\n",
      "Epoch 41/100\n",
      "12/12 [==============================] - 1s 98ms/step - loss: 5.2664e-04 - val_loss: 0.0129\n",
      "Epoch 42/100\n",
      "12/12 [==============================] - 1s 98ms/step - loss: 5.3233e-04 - val_loss: 0.0127\n",
      "Epoch 43/100\n",
      "12/12 [==============================] - 1s 98ms/step - loss: 4.8571e-04 - val_loss: 0.0124\n",
      "Epoch 44/100\n",
      "12/12 [==============================] - 1s 101ms/step - loss: 5.1402e-04 - val_loss: 0.0127\n",
      "Epoch 45/100\n",
      "12/12 [==============================] - 1s 100ms/step - loss: 4.9251e-04 - val_loss: 0.0118\n",
      "Epoch 46/100\n",
      "12/12 [==============================] - 1s 98ms/step - loss: 4.7458e-04 - val_loss: 0.0123\n",
      "Epoch 47/100\n",
      "12/12 [==============================] - 1s 98ms/step - loss: 4.7099e-04 - val_loss: 0.0115\n",
      "Epoch 48/100\n",
      "12/12 [==============================] - 1s 99ms/step - loss: 4.6541e-04 - val_loss: 0.0122\n",
      "Epoch 49/100\n",
      "12/12 [==============================] - 1s 99ms/step - loss: 4.7223e-04 - val_loss: 0.0113\n",
      "Epoch 50/100\n",
      "12/12 [==============================] - 1s 101ms/step - loss: 4.8343e-04 - val_loss: 0.0118\n",
      "Epoch 51/100\n",
      "12/12 [==============================] - 1s 100ms/step - loss: 4.5251e-04 - val_loss: 0.0122\n",
      "Epoch 52/100\n",
      "12/12 [==============================] - 1s 100ms/step - loss: 4.6409e-04 - val_loss: 0.0112\n",
      "Epoch 53/100\n",
      "12/12 [==============================] - 1s 100ms/step - loss: 4.4791e-04 - val_loss: 0.0112\n",
      "Epoch 54/100\n",
      "12/12 [==============================] - 1s 99ms/step - loss: 4.8912e-04 - val_loss: 0.0117\n",
      "Epoch 55/100\n",
      "12/12 [==============================] - 1s 102ms/step - loss: 4.6172e-04 - val_loss: 0.0109\n",
      "Epoch 56/100\n",
      "12/12 [==============================] - 1s 103ms/step - loss: 4.2997e-04 - val_loss: 0.0106\n",
      "Epoch 57/100\n",
      "12/12 [==============================] - 1s 99ms/step - loss: 4.2918e-04 - val_loss: 0.0102\n",
      "Epoch 58/100\n",
      "12/12 [==============================] - 1s 101ms/step - loss: 4.7769e-04 - val_loss: 0.0099\n",
      "Epoch 59/100\n",
      "12/12 [==============================] - 1s 115ms/step - loss: 4.8344e-04 - val_loss: 0.0104\n",
      "Epoch 60/100\n",
      "12/12 [==============================] - 1s 104ms/step - loss: 3.9536e-04 - val_loss: 0.0108\n",
      "Epoch 61/100\n",
      "12/12 [==============================] - 1s 104ms/step - loss: 4.3846e-04 - val_loss: 0.0105\n",
      "Epoch 62/100\n",
      "12/12 [==============================] - 1s 104ms/step - loss: 4.1324e-04 - val_loss: 0.0106\n",
      "Epoch 63/100\n",
      "12/12 [==============================] - 1s 105ms/step - loss: 3.9899e-04 - val_loss: 0.0099\n",
      "Epoch 64/100\n",
      "12/12 [==============================] - 1s 105ms/step - loss: 3.8583e-04 - val_loss: 0.0103\n",
      "Epoch 65/100\n",
      "12/12 [==============================] - 1s 103ms/step - loss: 3.9139e-04 - val_loss: 0.0103\n",
      "Epoch 66/100\n",
      "12/12 [==============================] - 1s 102ms/step - loss: 3.9049e-04 - val_loss: 0.0097\n",
      "Epoch 67/100\n",
      "12/12 [==============================] - 1s 104ms/step - loss: 4.0984e-04 - val_loss: 0.0095\n",
      "Epoch 68/100\n",
      "12/12 [==============================] - 1s 101ms/step - loss: 3.8423e-04 - val_loss: 0.0096\n",
      "Epoch 69/100\n",
      "12/12 [==============================] - 1s 101ms/step - loss: 3.6803e-04 - val_loss: 0.0093\n",
      "Epoch 70/100\n",
      "12/12 [==============================] - 1s 100ms/step - loss: 3.5188e-04 - val_loss: 0.0091\n",
      "Epoch 71/100\n",
      "12/12 [==============================] - 1s 100ms/step - loss: 3.5432e-04 - val_loss: 0.0089\n",
      "Epoch 72/100\n",
      "12/12 [==============================] - 1s 99ms/step - loss: 3.7129e-04 - val_loss: 0.0098\n",
      "Epoch 73/100\n",
      "12/12 [==============================] - 1s 99ms/step - loss: 4.7196e-04 - val_loss: 0.0096\n",
      "Epoch 74/100\n",
      "12/12 [==============================] - 1s 100ms/step - loss: 4.1674e-04 - val_loss: 0.0092\n",
      "Epoch 75/100\n",
      "12/12 [==============================] - 1s 100ms/step - loss: 3.8174e-04 - val_loss: 0.0085\n",
      "Epoch 76/100\n",
      "12/12 [==============================] - 1s 99ms/step - loss: 3.3878e-04 - val_loss: 0.0087\n",
      "Epoch 77/100\n",
      "12/12 [==============================] - 1s 99ms/step - loss: 3.1098e-04 - val_loss: 0.0089\n",
      "Epoch 78/100\n",
      "12/12 [==============================] - 1s 100ms/step - loss: 3.1719e-04 - val_loss: 0.0089\n"
     ]
    },
    {
     "name": "stdout",
     "output_type": "stream",
     "text": [
      "Epoch 79/100\n",
      "12/12 [==============================] - 1s 101ms/step - loss: 3.0269e-04 - val_loss: 0.0082\n",
      "Epoch 80/100\n",
      "12/12 [==============================] - 1s 99ms/step - loss: 3.2675e-04 - val_loss: 0.0088\n",
      "Epoch 81/100\n",
      "12/12 [==============================] - 1s 99ms/step - loss: 2.9817e-04 - val_loss: 0.0089\n",
      "Epoch 82/100\n",
      "12/12 [==============================] - 1s 99ms/step - loss: 3.0673e-04 - val_loss: 0.0090\n",
      "Epoch 83/100\n",
      "12/12 [==============================] - 1s 100ms/step - loss: 3.7482e-04 - val_loss: 0.0080\n",
      "Epoch 84/100\n",
      "12/12 [==============================] - 1s 100ms/step - loss: 4.2960e-04 - val_loss: 0.0082\n",
      "Epoch 85/100\n",
      "12/12 [==============================] - 1s 100ms/step - loss: 3.0402e-04 - val_loss: 0.0086\n",
      "Epoch 86/100\n",
      "12/12 [==============================] - 1s 100ms/step - loss: 2.7269e-04 - val_loss: 0.0086\n",
      "Epoch 87/100\n",
      "12/12 [==============================] - 1s 100ms/step - loss: 2.7013e-04 - val_loss: 0.0081\n",
      "Epoch 88/100\n",
      "12/12 [==============================] - 1s 100ms/step - loss: 2.8062e-04 - val_loss: 0.0083\n",
      "Epoch 89/100\n",
      "12/12 [==============================] - 1s 100ms/step - loss: 2.6698e-04 - val_loss: 0.0084\n",
      "Epoch 90/100\n",
      "12/12 [==============================] - 1s 100ms/step - loss: 2.6750e-04 - val_loss: 0.0081\n",
      "Epoch 91/100\n",
      "12/12 [==============================] - 1s 100ms/step - loss: 3.1802e-04 - val_loss: 0.0084\n",
      "Epoch 92/100\n",
      "12/12 [==============================] - 1s 100ms/step - loss: 2.7494e-04 - val_loss: 0.0087\n",
      "Epoch 93/100\n",
      "12/12 [==============================] - 1s 100ms/step - loss: 2.9947e-04 - val_loss: 0.0080\n",
      "Epoch 94/100\n",
      "12/12 [==============================] - 1s 100ms/step - loss: 2.6943e-04 - val_loss: 0.0080\n",
      "Epoch 95/100\n",
      "12/12 [==============================] - 1s 100ms/step - loss: 2.7546e-04 - val_loss: 0.0080\n",
      "Epoch 96/100\n",
      "12/12 [==============================] - 1s 100ms/step - loss: 2.5754e-04 - val_loss: 0.0082\n",
      "Epoch 97/100\n",
      "12/12 [==============================] - 1s 100ms/step - loss: 2.8569e-04 - val_loss: 0.0081\n",
      "Epoch 98/100\n",
      "12/12 [==============================] - 1s 100ms/step - loss: 2.6356e-04 - val_loss: 0.0076\n",
      "Epoch 99/100\n",
      "12/12 [==============================] - 1s 100ms/step - loss: 3.1632e-04 - val_loss: 0.0081\n",
      "Epoch 100/100\n",
      "12/12 [==============================] - 1s 100ms/step - loss: 2.6999e-04 - val_loss: 0.0085\n"
     ]
    },
    {
     "data": {
      "text/plain": [
       "<keras.src.callbacks.History at 0x231ec0d1310>"
      ]
     },
     "execution_count": 44,
     "metadata": {},
     "output_type": "execute_result"
    }
   ],
   "source": [
    "model.fit(X_train, y_train, validation_data=(X_test,ytest),epochs=100,batch_size=64,verbose=1)"
   ]
  },
  {
   "cell_type": "code",
   "execution_count": 45,
   "id": "c8acbb11",
   "metadata": {},
   "outputs": [],
   "source": [
    "import tensorflow as tf"
   ]
  },
  {
   "cell_type": "code",
   "execution_count": 46,
   "id": "0f939efe",
   "metadata": {},
   "outputs": [
    {
     "data": {
      "text/plain": [
       "'2.13.0'"
      ]
     },
     "execution_count": 46,
     "metadata": {},
     "output_type": "execute_result"
    }
   ],
   "source": [
    "tf.__version__"
   ]
  },
  {
   "cell_type": "code",
   "execution_count": 47,
   "id": "ec4ae054",
   "metadata": {},
   "outputs": [
    {
     "name": "stdout",
     "output_type": "stream",
     "text": [
      "23/23 [==============================] - 1s 19ms/step\n",
      "11/11 [==============================] - 0s 19ms/step\n"
     ]
    }
   ],
   "source": [
    "###Lets do the prediction and check performance metrics\n",
    "train_predict=model.predict(X_train)\n",
    "test_predict=model.predict(X_test)"
   ]
  },
  {
   "cell_type": "code",
   "execution_count": 49,
   "id": "02fc4a95",
   "metadata": {},
   "outputs": [],
   "source": [
    "##Transform to original form\n",
    "train_predict=scaler.inverse_transform(train_predict)\n",
    "test_predict=scaler.inverse_transform(test_predict)"
   ]
  },
  {
   "cell_type": "code",
   "execution_count": 50,
   "id": "4a2ad12d",
   "metadata": {},
   "outputs": [
    {
     "data": {
      "text/plain": [
       "1849.7732416605013"
      ]
     },
     "execution_count": 50,
     "metadata": {},
     "output_type": "execute_result"
    }
   ],
   "source": [
    "##calculate RMSE performance metrics\n",
    "import math\n",
    "from sklearn.metrics import mean_squared_error\n",
    "math.sqrt(mean_squared_error(y_train, train_predict))"
   ]
  },
  {
   "cell_type": "code",
   "execution_count": 51,
   "id": "84192eeb",
   "metadata": {},
   "outputs": [
    {
     "data": {
      "text/plain": [
       "1036.040575503735"
      ]
     },
     "execution_count": 51,
     "metadata": {},
     "output_type": "execute_result"
    }
   ],
   "source": [
    "##test data RMSE\n",
    "math.sqrt(mean_squared_error(ytest, test_predict))"
   ]
  },
  {
   "cell_type": "code",
   "execution_count": 53,
   "id": "d9f0ab51",
   "metadata": {},
   "outputs": [
    {
     "data": {
      "image/png": "[encoded data removed]",
      "text/plain": [
       "<Figure size 640x480 with 1 Axes>"
      ]
     },
     "metadata": {},
     "output_type": "display_data"
    }
   ],
   "source": [
    "##plotting\n",
    "#shift train prediction for plotting\n",
    "look_back=100\n",
    "trainPredictPlot = numpy.empty_like(df1)\n",
    "trainPredictPlot[:, :]=np.nan\n",
    "trainPredictPlot[look_back: len(train_predict)+look_back, :]= train_predict\n",
    "\n",
    "#shift test prediction for plotting\n",
    "\n",
    "testPredictPlot = numpy.empty_like(df1)\n",
    "testPredictPlot[:, :] =numpy.nan\n",
    "testPredictPlot[len(train_predict)+(look_back*2)+1:len(df1)-1, :]= test_predict\n",
    "\n",
    "#plot baseline and prediction\n",
    "plt.plot(scaler.inverse_transform(df1))\n",
    "plt.plot(trainPredictPlot)\n",
    "plt.plot(testPredictPlot)\n",
    "plt.show()"
   ]
  },
  {
   "cell_type": "code",
   "execution_count": 54,
   "id": "121ca15a",
   "metadata": {},
   "outputs": [
    {
     "data": {
      "text/plain": [
       "440"
      ]
     },
     "execution_count": 54,
     "metadata": {},
     "output_type": "execute_result"
    }
   ],
   "source": [
    "len(test_data)"
   ]
  },
  {
   "cell_type": "code",
   "execution_count": 55,
   "id": "5a41bc0d",
   "metadata": {},
   "outputs": [
    {
     "data": {
      "text/plain": [
       "(1, 100)"
      ]
     },
     "execution_count": 55,
     "metadata": {},
     "output_type": "execute_result"
    }
   ],
   "source": [
    "x_input=test_data[340:].reshape(1,-1)\n",
    "x_input.shape"
   ]
  },
  {
   "cell_type": "code",
   "execution_count": 56,
   "id": "29e389dc",
   "metadata": {},
   "outputs": [
    {
     "data": {
      "text/plain": [
       "(1, 100)"
      ]
     },
     "execution_count": 56,
     "metadata": {},
     "output_type": "execute_result"
    }
   ],
   "source": [
    "x_input.shape"
   ]
  },
  {
   "cell_type": "code",
   "execution_count": 57,
   "id": "105ed179",
   "metadata": {},
   "outputs": [],
   "source": [
    "temp_input= list(x_input)\n",
    "temp_input=temp_input[0].tolist()"
   ]
  },
  {
   "cell_type": "code",
   "execution_count": 59,
   "id": "5effb1d2",
   "metadata": {},
   "outputs": [
    {
     "name": "stdout",
     "output_type": "stream",
     "text": [
      "0day input [0.00734744 0.00779238 0.0068213  0.00693634 0.00648801 0.00688135\n",
      " 0.00679761 0.00702769 0.0070683  0.00692619 0.00764689 0.0073559\n",
      " 0.00748786 0.00716642 0.00730176 0.00668257 0.00672994 0.00739989\n",
      " 0.00813582 0.00912213 0.01079023 0.01072933 0.01091035 0.0117241\n",
      " 0.01208953 0.01263767 0.01351029 0.0137035  0.01315197 0.01224852\n",
      " 0.01334145 0.01334822 0.0134768  0.01297603 0.0130234  0.0136003\n",
      " 0.01402155 0.01432269 0.01454939 0.01258015 0.01276794 0.01292527\n",
      " 0.01330085 0.01293881 0.01340236 0.01358507 0.01306908 0.01247187\n",
      " 0.01264951 0.01248202 0.01223841 0.01128255 0.01174779 0.01162598\n",
      " 0.01200494 0.0116632  0.01245834 0.01170715 0.0119102  0.0110034\n",
      " 0.01071749 0.0116429  0.01312321 0.01371703 0.01378132 0.01300648\n",
      " 0.01316889 0.01290836 0.01175794 0.01245157 0.01256661 0.0151652\n",
      " 0.01591974 0.01607877 0.01599756 0.01568966 0.01484376 0.01462383\n",
      " 0.01535468 0.01539867 0.01535807 0.0155374  0.01559729 0.01485053\n",
      " 0.01534792 0.01537499 0.01500533 0.0155446  0.01464413 0.01445127\n",
      " 0.01502309 0.01607877 0.01638329 0.01517535 0.01579793 0.01716997\n",
      " 0.01715475 0.01754386 0.01760476 0.03203132]\n",
      "0 day output [[0.03257689]]\n",
      "1day input [0.00779238 0.0068213  0.00693634 0.00648801 0.00688135 0.00679761\n",
      " 0.00702769 0.0070683  0.00692619 0.00764689 0.0073559  0.00748786\n",
      " 0.00716642 0.00730176 0.00668257 0.00672994 0.00739989 0.00813582\n",
      " 0.00912213 0.01079023 0.01072933 0.01091035 0.0117241  0.01208953\n",
      " 0.01263767 0.01351029 0.0137035  0.01315197 0.01224852 0.01334145\n",
      " 0.01334822 0.0134768  0.01297603 0.0130234  0.0136003  0.01402155\n",
      " 0.01432269 0.01454939 0.01258015 0.01276794 0.01292527 0.01330085\n",
      " 0.01293881 0.01340236 0.01358507 0.01306908 0.01247187 0.01264951\n",
      " 0.01248202 0.01223841 0.01128255 0.01174779 0.01162598 0.01200494\n",
      " 0.0116632  0.01245834 0.01170715 0.0119102  0.0110034  0.01071749\n",
      " 0.0116429  0.01312321 0.01371703 0.01378132 0.01300648 0.01316889\n",
      " 0.01290836 0.01175794 0.01245157 0.01256661 0.0151652  0.01591974\n",
      " 0.01607877 0.01599756 0.01568966 0.01484376 0.01462383 0.01535468\n",
      " 0.01539867 0.01535807 0.0155374  0.01559729 0.01485053 0.01534792\n",
      " 0.01537499 0.01500533 0.0155446  0.01464413 0.01445127 0.01502309\n",
      " 0.01607877 0.01638329 0.01517535 0.01579793 0.01716997 0.01715475\n",
      " 0.01754386 0.01760476 0.03203132 0.03257689]\n",
      "1 day output [[0.03354646]]\n",
      "2day input [0.0068213  0.00693634 0.00648801 0.00688135 0.00679761 0.00702769\n",
      " 0.0070683  0.00692619 0.00764689 0.0073559  0.00748786 0.00716642\n",
      " 0.00730176 0.00668257 0.00672994 0.00739989 0.00813582 0.00912213\n",
      " 0.01079023 0.01072933 0.01091035 0.0117241  0.01208953 0.01263767\n",
      " 0.01351029 0.0137035  0.01315197 0.01224852 0.01334145 0.01334822\n",
      " 0.0134768  0.01297603 0.0130234  0.0136003  0.01402155 0.01432269\n",
      " 0.01454939 0.01258015 0.01276794 0.01292527 0.01330085 0.01293881\n",
      " 0.01340236 0.01358507 0.01306908 0.01247187 0.01264951 0.01248202\n",
      " 0.01223841 0.01128255 0.01174779 0.01162598 0.01200494 0.0116632\n",
      " 0.01245834 0.01170715 0.0119102  0.0110034  0.01071749 0.0116429\n",
      " 0.01312321 0.01371703 0.01378132 0.01300648 0.01316889 0.01290836\n",
      " 0.01175794 0.01245157 0.01256661 0.0151652  0.01591974 0.01607877\n",
      " 0.01599756 0.01568966 0.01484376 0.01462383 0.01535468 0.01539867\n",
      " 0.01535807 0.0155374  0.01559729 0.01485053 0.01534792 0.01537499\n",
      " 0.01500533 0.0155446  0.01464413 0.01445127 0.01502309 0.01607877\n",
      " 0.01638329 0.01517535 0.01579793 0.01716997 0.01715475 0.01754386\n",
      " 0.01760476 0.03203132 0.03257689 0.03354646]\n",
      "2 day output [[0.03492495]]\n",
      "3day input [0.00693634 0.00648801 0.00688135 0.00679761 0.00702769 0.0070683\n",
      " 0.00692619 0.00764689 0.0073559  0.00748786 0.00716642 0.00730176\n",
      " 0.00668257 0.00672994 0.00739989 0.00813582 0.00912213 0.01079023\n",
      " 0.01072933 0.01091035 0.0117241  0.01208953 0.01263767 0.01351029\n",
      " 0.0137035  0.01315197 0.01224852 0.01334145 0.01334822 0.0134768\n",
      " 0.01297603 0.0130234  0.0136003  0.01402155 0.01432269 0.01454939\n",
      " 0.01258015 0.01276794 0.01292527 0.01330085 0.01293881 0.01340236\n",
      " 0.01358507 0.01306908 0.01247187 0.01264951 0.01248202 0.01223841\n",
      " 0.01128255 0.01174779 0.01162598 0.01200494 0.0116632  0.01245834\n",
      " 0.01170715 0.0119102  0.0110034  0.01071749 0.0116429  0.01312321\n",
      " 0.01371703 0.01378132 0.01300648 0.01316889 0.01290836 0.01175794\n",
      " 0.01245157 0.01256661 0.0151652  0.01591974 0.01607877 0.01599756\n",
      " 0.01568966 0.01484376 0.01462383 0.01535468 0.01539867 0.01535807\n",
      " 0.0155374  0.01559729 0.01485053 0.01534792 0.01537499 0.01500533\n",
      " 0.0155446  0.01464413 0.01445127 0.01502309 0.01607877 0.01638329\n",
      " 0.01517535 0.01579793 0.01716997 0.01715475 0.01754386 0.01760476\n",
      " 0.03203132 0.03257689 0.03354646 0.03492495]\n",
      "3 day output [[0.03664256]]\n",
      "4day input [0.00648801 0.00688135 0.00679761 0.00702769 0.0070683  0.00692619\n",
      " 0.00764689 0.0073559  0.00748786 0.00716642 0.00730176 0.00668257\n",
      " 0.00672994 0.00739989 0.00813582 0.00912213 0.01079023 0.01072933\n",
      " 0.01091035 0.0117241  0.01208953 0.01263767 0.01351029 0.0137035\n",
      " 0.01315197 0.01224852 0.01334145 0.01334822 0.0134768  0.01297603\n",
      " 0.0130234  0.0136003  0.01402155 0.01432269 0.01454939 0.01258015\n",
      " 0.01276794 0.01292527 0.01330085 0.01293881 0.01340236 0.01358507\n",
      " 0.01306908 0.01247187 0.01264951 0.01248202 0.01223841 0.01128255\n",
      " 0.01174779 0.01162598 0.01200494 0.0116632  0.01245834 0.01170715\n",
      " 0.0119102  0.0110034  0.01071749 0.0116429  0.01312321 0.01371703\n",
      " 0.01378132 0.01300648 0.01316889 0.01290836 0.01175794 0.01245157\n",
      " 0.01256661 0.0151652  0.01591974 0.01607877 0.01599756 0.01568966\n",
      " 0.01484376 0.01462383 0.01535468 0.01539867 0.01535807 0.0155374\n",
      " 0.01559729 0.01485053 0.01534792 0.01537499 0.01500533 0.0155446\n",
      " 0.01464413 0.01445127 0.01502309 0.01607877 0.01638329 0.01517535\n",
      " 0.01579793 0.01716997 0.01715475 0.01754386 0.01760476 0.03203132\n",
      " 0.03257689 0.03354646 0.03492495 0.03664256]\n",
      "4 day output [[0.03861188]]\n",
      "5day input [0.00688135 0.00679761 0.00702769 0.0070683  0.00692619 0.00764689\n",
      " 0.0073559  0.00748786 0.00716642 0.00730176 0.00668257 0.00672994\n",
      " 0.00739989 0.00813582 0.00912213 0.01079023 0.01072933 0.01091035\n",
      " 0.0117241  0.01208953 0.01263767 0.01351029 0.0137035  0.01315197\n",
      " 0.01224852 0.01334145 0.01334822 0.0134768  0.01297603 0.0130234\n",
      " 0.0136003  0.01402155 0.01432269 0.01454939 0.01258015 0.01276794\n",
      " 0.01292527 0.01330085 0.01293881 0.01340236 0.01358507 0.01306908\n",
      " 0.01247187 0.01264951 0.01248202 0.01223841 0.01128255 0.01174779\n",
      " 0.01162598 0.01200494 0.0116632  0.01245834 0.01170715 0.0119102\n",
      " 0.0110034  0.01071749 0.0116429  0.01312321 0.01371703 0.01378132\n",
      " 0.01300648 0.01316889 0.01290836 0.01175794 0.01245157 0.01256661\n",
      " 0.0151652  0.01591974 0.01607877 0.01599756 0.01568966 0.01484376\n",
      " 0.01462383 0.01535468 0.01539867 0.01535807 0.0155374  0.01559729\n",
      " 0.01485053 0.01534792 0.01537499 0.01500533 0.0155446  0.01464413\n",
      " 0.01445127 0.01502309 0.01607877 0.01638329 0.01517535 0.01579793\n",
      " 0.01716997 0.01715475 0.01754386 0.01760476 0.03203132 0.03257689\n",
      " 0.03354646 0.03492495 0.03664256 0.03861188]\n",
      "5 day output [[0.04074921]]\n",
      "6day input [0.00679761 0.00702769 0.0070683  0.00692619 0.00764689 0.0073559\n",
      " 0.00748786 0.00716642 0.00730176 0.00668257 0.00672994 0.00739989\n",
      " 0.00813582 0.00912213 0.01079023 0.01072933 0.01091035 0.0117241\n",
      " 0.01208953 0.01263767 0.01351029 0.0137035  0.01315197 0.01224852\n",
      " 0.01334145 0.01334822 0.0134768  0.01297603 0.0130234  0.0136003\n",
      " 0.01402155 0.01432269 0.01454939 0.01258015 0.01276794 0.01292527\n",
      " 0.01330085 0.01293881 0.01340236 0.01358507 0.01306908 0.01247187\n",
      " 0.01264951 0.01248202 0.01223841 0.01128255 0.01174779 0.01162598\n",
      " 0.01200494 0.0116632  0.01245834 0.01170715 0.0119102  0.0110034\n",
      " 0.01071749 0.0116429  0.01312321 0.01371703 0.01378132 0.01300648\n",
      " 0.01316889 0.01290836 0.01175794 0.01245157 0.01256661 0.0151652\n",
      " 0.01591974 0.01607877 0.01599756 0.01568966 0.01484376 0.01462383\n",
      " 0.01535468 0.01539867 0.01535807 0.0155374  0.01559729 0.01485053\n",
      " 0.01534792 0.01537499 0.01500533 0.0155446  0.01464413 0.01445127\n",
      " 0.01502309 0.01607877 0.01638329 0.01517535 0.01579793 0.01716997\n",
      " 0.01715475 0.01754386 0.01760476 0.03203132 0.03257689 0.03354646\n",
      " 0.03492495 0.03664256 0.03861188 0.04074921]\n",
      "6 day output [[0.04298449]]\n",
      "7day input [0.00702769 0.0070683  0.00692619 0.00764689 0.0073559  0.00748786\n",
      " 0.00716642 0.00730176 0.00668257 0.00672994 0.00739989 0.00813582\n",
      " 0.00912213 0.01079023 0.01072933 0.01091035 0.0117241  0.01208953\n",
      " 0.01263767 0.01351029 0.0137035  0.01315197 0.01224852 0.01334145\n",
      " 0.01334822 0.0134768  0.01297603 0.0130234  0.0136003  0.01402155\n",
      " 0.01432269 0.01454939 0.01258015 0.01276794 0.01292527 0.01330085\n",
      " 0.01293881 0.01340236 0.01358507 0.01306908 0.01247187 0.01264951\n",
      " 0.01248202 0.01223841 0.01128255 0.01174779 0.01162598 0.01200494\n",
      " 0.0116632  0.01245834 0.01170715 0.0119102  0.0110034  0.01071749\n",
      " 0.0116429  0.01312321 0.01371703 0.01378132 0.01300648 0.01316889\n",
      " 0.01290836 0.01175794 0.01245157 0.01256661 0.0151652  0.01591974\n",
      " 0.01607877 0.01599756 0.01568966 0.01484376 0.01462383 0.01535468\n",
      " 0.01539867 0.01535807 0.0155374  0.01559729 0.01485053 0.01534792\n",
      " 0.01537499 0.01500533 0.0155446  0.01464413 0.01445127 0.01502309\n",
      " 0.01607877 0.01638329 0.01517535 0.01579793 0.01716997 0.01715475\n",
      " 0.01754386 0.01760476 0.03203132 0.03257689 0.03354646 0.03492495\n",
      " 0.03664256 0.03861188 0.04074921 0.04298449]\n",
      "7 day output [[0.04526424]]\n",
      "8day input [0.0070683  0.00692619 0.00764689 0.0073559  0.00748786 0.00716642\n",
      " 0.00730176 0.00668257 0.00672994 0.00739989 0.00813582 0.00912213\n",
      " 0.01079023 0.01072933 0.01091035 0.0117241  0.01208953 0.01263767\n",
      " 0.01351029 0.0137035  0.01315197 0.01224852 0.01334145 0.01334822\n",
      " 0.0134768  0.01297603 0.0130234  0.0136003  0.01402155 0.01432269\n",
      " 0.01454939 0.01258015 0.01276794 0.01292527 0.01330085 0.01293881\n",
      " 0.01340236 0.01358507 0.01306908 0.01247187 0.01264951 0.01248202\n",
      " 0.01223841 0.01128255 0.01174779 0.01162598 0.01200494 0.0116632\n",
      " 0.01245834 0.01170715 0.0119102  0.0110034  0.01071749 0.0116429\n",
      " 0.01312321 0.01371703 0.01378132 0.01300648 0.01316889 0.01290836\n",
      " 0.01175794 0.01245157 0.01256661 0.0151652  0.01591974 0.01607877\n",
      " 0.01599756 0.01568966 0.01484376 0.01462383 0.01535468 0.01539867\n",
      " 0.01535807 0.0155374  0.01559729 0.01485053 0.01534792 0.01537499\n",
      " 0.01500533 0.0155446  0.01464413 0.01445127 0.01502309 0.01607877\n",
      " 0.01638329 0.01517535 0.01579793 0.01716997 0.01715475 0.01754386\n",
      " 0.01760476 0.03203132 0.03257689 0.03354646 0.03492495 0.03664256\n",
      " 0.03861188 0.04074921 0.04298449 0.04526424]\n"
     ]
    },
    {
     "name": "stdout",
     "output_type": "stream",
     "text": [
      "8 day output [[0.04755066]]\n",
      "9day input [0.00692619 0.00764689 0.0073559  0.00748786 0.00716642 0.00730176\n",
      " 0.00668257 0.00672994 0.00739989 0.00813582 0.00912213 0.01079023\n",
      " 0.01072933 0.01091035 0.0117241  0.01208953 0.01263767 0.01351029\n",
      " 0.0137035  0.01315197 0.01224852 0.01334145 0.01334822 0.0134768\n",
      " 0.01297603 0.0130234  0.0136003  0.01402155 0.01432269 0.01454939\n",
      " 0.01258015 0.01276794 0.01292527 0.01330085 0.01293881 0.01340236\n",
      " 0.01358507 0.01306908 0.01247187 0.01264951 0.01248202 0.01223841\n",
      " 0.01128255 0.01174779 0.01162598 0.01200494 0.0116632  0.01245834\n",
      " 0.01170715 0.0119102  0.0110034  0.01071749 0.0116429  0.01312321\n",
      " 0.01371703 0.01378132 0.01300648 0.01316889 0.01290836 0.01175794\n",
      " 0.01245157 0.01256661 0.0151652  0.01591974 0.01607877 0.01599756\n",
      " 0.01568966 0.01484376 0.01462383 0.01535468 0.01539867 0.01535807\n",
      " 0.0155374  0.01559729 0.01485053 0.01534792 0.01537499 0.01500533\n",
      " 0.0155446  0.01464413 0.01445127 0.01502309 0.01607877 0.01638329\n",
      " 0.01517535 0.01579793 0.01716997 0.01715475 0.01754386 0.01760476\n",
      " 0.03203132 0.03257689 0.03354646 0.03492495 0.03664256 0.03861188\n",
      " 0.04074921 0.04298449 0.04526424 0.04755066]\n",
      "9 day output [[0.04981869]]\n",
      "10day input [0.00764689 0.0073559  0.00748786 0.00716642 0.00730176 0.00668257\n",
      " 0.00672994 0.00739989 0.00813582 0.00912213 0.01079023 0.01072933\n",
      " 0.01091035 0.0117241  0.01208953 0.01263767 0.01351029 0.0137035\n",
      " 0.01315197 0.01224852 0.01334145 0.01334822 0.0134768  0.01297603\n",
      " 0.0130234  0.0136003  0.01402155 0.01432269 0.01454939 0.01258015\n",
      " 0.01276794 0.01292527 0.01330085 0.01293881 0.01340236 0.01358507\n",
      " 0.01306908 0.01247187 0.01264951 0.01248202 0.01223841 0.01128255\n",
      " 0.01174779 0.01162598 0.01200494 0.0116632  0.01245834 0.01170715\n",
      " 0.0119102  0.0110034  0.01071749 0.0116429  0.01312321 0.01371703\n",
      " 0.01378132 0.01300648 0.01316889 0.01290836 0.01175794 0.01245157\n",
      " 0.01256661 0.0151652  0.01591974 0.01607877 0.01599756 0.01568966\n",
      " 0.01484376 0.01462383 0.01535468 0.01539867 0.01535807 0.0155374\n",
      " 0.01559729 0.01485053 0.01534792 0.01537499 0.01500533 0.0155446\n",
      " 0.01464413 0.01445127 0.01502309 0.01607877 0.01638329 0.01517535\n",
      " 0.01579793 0.01716997 0.01715475 0.01754386 0.01760476 0.03203132\n",
      " 0.03257689 0.03354646 0.03492495 0.03664256 0.03861188 0.04074921\n",
      " 0.04298449 0.04526424 0.04755066 0.04981869]\n",
      "10 day output [[0.05205294]]\n",
      "11day input [0.0073559  0.00748786 0.00716642 0.00730176 0.00668257 0.00672994\n",
      " 0.00739989 0.00813582 0.00912213 0.01079023 0.01072933 0.01091035\n",
      " 0.0117241  0.01208953 0.01263767 0.01351029 0.0137035  0.01315197\n",
      " 0.01224852 0.01334145 0.01334822 0.0134768  0.01297603 0.0130234\n",
      " 0.0136003  0.01402155 0.01432269 0.01454939 0.01258015 0.01276794\n",
      " 0.01292527 0.01330085 0.01293881 0.01340236 0.01358507 0.01306908\n",
      " 0.01247187 0.01264951 0.01248202 0.01223841 0.01128255 0.01174779\n",
      " 0.01162598 0.01200494 0.0116632  0.01245834 0.01170715 0.0119102\n",
      " 0.0110034  0.01071749 0.0116429  0.01312321 0.01371703 0.01378132\n",
      " 0.01300648 0.01316889 0.01290836 0.01175794 0.01245157 0.01256661\n",
      " 0.0151652  0.01591974 0.01607877 0.01599756 0.01568966 0.01484376\n",
      " 0.01462383 0.01535468 0.01539867 0.01535807 0.0155374  0.01559729\n",
      " 0.01485053 0.01534792 0.01537499 0.01500533 0.0155446  0.01464413\n",
      " 0.01445127 0.01502309 0.01607877 0.01638329 0.01517535 0.01579793\n",
      " 0.01716997 0.01715475 0.01754386 0.01760476 0.03203132 0.03257689\n",
      " 0.03354646 0.03492495 0.03664256 0.03861188 0.04074921 0.04298449\n",
      " 0.04526424 0.04755066 0.04981869 0.05205294]\n",
      "11 day output [[0.05424472]]\n",
      "12day input [0.00748786 0.00716642 0.00730176 0.00668257 0.00672994 0.00739989\n",
      " 0.00813582 0.00912213 0.01079023 0.01072933 0.01091035 0.0117241\n",
      " 0.01208953 0.01263767 0.01351029 0.0137035  0.01315197 0.01224852\n",
      " 0.01334145 0.01334822 0.0134768  0.01297603 0.0130234  0.0136003\n",
      " 0.01402155 0.01432269 0.01454939 0.01258015 0.01276794 0.01292527\n",
      " 0.01330085 0.01293881 0.01340236 0.01358507 0.01306908 0.01247187\n",
      " 0.01264951 0.01248202 0.01223841 0.01128255 0.01174779 0.01162598\n",
      " 0.01200494 0.0116632  0.01245834 0.01170715 0.0119102  0.0110034\n",
      " 0.01071749 0.0116429  0.01312321 0.01371703 0.01378132 0.01300648\n",
      " 0.01316889 0.01290836 0.01175794 0.01245157 0.01256661 0.0151652\n",
      " 0.01591974 0.01607877 0.01599756 0.01568966 0.01484376 0.01462383\n",
      " 0.01535468 0.01539867 0.01535807 0.0155374  0.01559729 0.01485053\n",
      " 0.01534792 0.01537499 0.01500533 0.0155446  0.01464413 0.01445127\n",
      " 0.01502309 0.01607877 0.01638329 0.01517535 0.01579793 0.01716997\n",
      " 0.01715475 0.01754386 0.01760476 0.03203132 0.03257689 0.03354646\n",
      " 0.03492495 0.03664256 0.03861188 0.04074921 0.04298449 0.04526424\n",
      " 0.04755066 0.04981869 0.05205294 0.05424472]\n",
      "12 day output [[0.05638963]]\n",
      "13day input [0.00716642 0.00730176 0.00668257 0.00672994 0.00739989 0.00813582\n",
      " 0.00912213 0.01079023 0.01072933 0.01091035 0.0117241  0.01208953\n",
      " 0.01263767 0.01351029 0.0137035  0.01315197 0.01224852 0.01334145\n",
      " 0.01334822 0.0134768  0.01297603 0.0130234  0.0136003  0.01402155\n",
      " 0.01432269 0.01454939 0.01258015 0.01276794 0.01292527 0.01330085\n",
      " 0.01293881 0.01340236 0.01358507 0.01306908 0.01247187 0.01264951\n",
      " 0.01248202 0.01223841 0.01128255 0.01174779 0.01162598 0.01200494\n",
      " 0.0116632  0.01245834 0.01170715 0.0119102  0.0110034  0.01071749\n",
      " 0.0116429  0.01312321 0.01371703 0.01378132 0.01300648 0.01316889\n",
      " 0.01290836 0.01175794 0.01245157 0.01256661 0.0151652  0.01591974\n",
      " 0.01607877 0.01599756 0.01568966 0.01484376 0.01462383 0.01535468\n",
      " 0.01539867 0.01535807 0.0155374  0.01559729 0.01485053 0.01534792\n",
      " 0.01537499 0.01500533 0.0155446  0.01464413 0.01445127 0.01502309\n",
      " 0.01607877 0.01638329 0.01517535 0.01579793 0.01716997 0.01715475\n",
      " 0.01754386 0.01760476 0.03203132 0.03257689 0.03354646 0.03492495\n",
      " 0.03664256 0.03861188 0.04074921 0.04298449 0.04526424 0.04755066\n",
      " 0.04981869 0.05205294 0.05424472 0.05638963]\n",
      "13 day output [[0.05848585]]\n",
      "14day input [0.00730176 0.00668257 0.00672994 0.00739989 0.00813582 0.00912213\n",
      " 0.01079023 0.01072933 0.01091035 0.0117241  0.01208953 0.01263767\n",
      " 0.01351029 0.0137035  0.01315197 0.01224852 0.01334145 0.01334822\n",
      " 0.0134768  0.01297603 0.0130234  0.0136003  0.01402155 0.01432269\n",
      " 0.01454939 0.01258015 0.01276794 0.01292527 0.01330085 0.01293881\n",
      " 0.01340236 0.01358507 0.01306908 0.01247187 0.01264951 0.01248202\n",
      " 0.01223841 0.01128255 0.01174779 0.01162598 0.01200494 0.0116632\n",
      " 0.01245834 0.01170715 0.0119102  0.0110034  0.01071749 0.0116429\n",
      " 0.01312321 0.01371703 0.01378132 0.01300648 0.01316889 0.01290836\n",
      " 0.01175794 0.01245157 0.01256661 0.0151652  0.01591974 0.01607877\n",
      " 0.01599756 0.01568966 0.01484376 0.01462383 0.01535468 0.01539867\n",
      " 0.01535807 0.0155374  0.01559729 0.01485053 0.01534792 0.01537499\n",
      " 0.01500533 0.0155446  0.01464413 0.01445127 0.01502309 0.01607877\n",
      " 0.01638329 0.01517535 0.01579793 0.01716997 0.01715475 0.01754386\n",
      " 0.01760476 0.03203132 0.03257689 0.03354646 0.03492495 0.03664256\n",
      " 0.03861188 0.04074921 0.04298449 0.04526424 0.04755066 0.04981869\n",
      " 0.05205294 0.05424472 0.05638963 0.05848585]\n",
      "14 day output [[0.06053311]]\n",
      "15day input [0.00668257 0.00672994 0.00739989 0.00813582 0.00912213 0.01079023\n",
      " 0.01072933 0.01091035 0.0117241  0.01208953 0.01263767 0.01351029\n",
      " 0.0137035  0.01315197 0.01224852 0.01334145 0.01334822 0.0134768\n",
      " 0.01297603 0.0130234  0.0136003  0.01402155 0.01432269 0.01454939\n",
      " 0.01258015 0.01276794 0.01292527 0.01330085 0.01293881 0.01340236\n",
      " 0.01358507 0.01306908 0.01247187 0.01264951 0.01248202 0.01223841\n",
      " 0.01128255 0.01174779 0.01162598 0.01200494 0.0116632  0.01245834\n",
      " 0.01170715 0.0119102  0.0110034  0.01071749 0.0116429  0.01312321\n",
      " 0.01371703 0.01378132 0.01300648 0.01316889 0.01290836 0.01175794\n",
      " 0.01245157 0.01256661 0.0151652  0.01591974 0.01607877 0.01599756\n",
      " 0.01568966 0.01484376 0.01462383 0.01535468 0.01539867 0.01535807\n",
      " 0.0155374  0.01559729 0.01485053 0.01534792 0.01537499 0.01500533\n",
      " 0.0155446  0.01464413 0.01445127 0.01502309 0.01607877 0.01638329\n",
      " 0.01517535 0.01579793 0.01716997 0.01715475 0.01754386 0.01760476\n",
      " 0.03203132 0.03257689 0.03354646 0.03492495 0.03664256 0.03861188\n",
      " 0.04074921 0.04298449 0.04526424 0.04755066 0.04981869 0.05205294\n",
      " 0.05424472 0.05638963 0.05848585 0.06053311]\n",
      "15 day output [[0.0625318]]\n",
      "16day input [0.00672994 0.00739989 0.00813582 0.00912213 0.01079023 0.01072933\n",
      " 0.01091035 0.0117241  0.01208953 0.01263767 0.01351029 0.0137035\n",
      " 0.01315197 0.01224852 0.01334145 0.01334822 0.0134768  0.01297603\n",
      " 0.0130234  0.0136003  0.01402155 0.01432269 0.01454939 0.01258015\n",
      " 0.01276794 0.01292527 0.01330085 0.01293881 0.01340236 0.01358507\n",
      " 0.01306908 0.01247187 0.01264951 0.01248202 0.01223841 0.01128255\n",
      " 0.01174779 0.01162598 0.01200494 0.0116632  0.01245834 0.01170715\n",
      " 0.0119102  0.0110034  0.01071749 0.0116429  0.01312321 0.01371703\n",
      " 0.01378132 0.01300648 0.01316889 0.01290836 0.01175794 0.01245157\n",
      " 0.01256661 0.0151652  0.01591974 0.01607877 0.01599756 0.01568966\n",
      " 0.01484376 0.01462383 0.01535468 0.01539867 0.01535807 0.0155374\n",
      " 0.01559729 0.01485053 0.01534792 0.01537499 0.01500533 0.0155446\n",
      " 0.01464413 0.01445127 0.01502309 0.01607877 0.01638329 0.01517535\n",
      " 0.01579793 0.01716997 0.01715475 0.01754386 0.01760476 0.03203132\n",
      " 0.03257689 0.03354646 0.03492495 0.03664256 0.03861188 0.04074921\n",
      " 0.04298449 0.04526424 0.04755066 0.04981869 0.05205294 0.05424472\n",
      " 0.05638963 0.05848585 0.06053311 0.0625318 ]\n"
     ]
    },
    {
     "name": "stdout",
     "output_type": "stream",
     "text": [
      "16 day output [[0.06448271]]\n",
      "17day input [0.00739989 0.00813582 0.00912213 0.01079023 0.01072933 0.01091035\n",
      " 0.0117241  0.01208953 0.01263767 0.01351029 0.0137035  0.01315197\n",
      " 0.01224852 0.01334145 0.01334822 0.0134768  0.01297603 0.0130234\n",
      " 0.0136003  0.01402155 0.01432269 0.01454939 0.01258015 0.01276794\n",
      " 0.01292527 0.01330085 0.01293881 0.01340236 0.01358507 0.01306908\n",
      " 0.01247187 0.01264951 0.01248202 0.01223841 0.01128255 0.01174779\n",
      " 0.01162598 0.01200494 0.0116632  0.01245834 0.01170715 0.0119102\n",
      " 0.0110034  0.01071749 0.0116429  0.01312321 0.01371703 0.01378132\n",
      " 0.01300648 0.01316889 0.01290836 0.01175794 0.01245157 0.01256661\n",
      " 0.0151652  0.01591974 0.01607877 0.01599756 0.01568966 0.01484376\n",
      " 0.01462383 0.01535468 0.01539867 0.01535807 0.0155374  0.01559729\n",
      " 0.01485053 0.01534792 0.01537499 0.01500533 0.0155446  0.01464413\n",
      " 0.01445127 0.01502309 0.01607877 0.01638329 0.01517535 0.01579793\n",
      " 0.01716997 0.01715475 0.01754386 0.01760476 0.03203132 0.03257689\n",
      " 0.03354646 0.03492495 0.03664256 0.03861188 0.04074921 0.04298449\n",
      " 0.04526424 0.04755066 0.04981869 0.05205294 0.05424472 0.05638963\n",
      " 0.05848585 0.06053311 0.0625318  0.06448271]\n",
      "17 day output [[0.06638679]]\n",
      "18day input [0.00813582 0.00912213 0.01079023 0.01072933 0.01091035 0.0117241\n",
      " 0.01208953 0.01263767 0.01351029 0.0137035  0.01315197 0.01224852\n",
      " 0.01334145 0.01334822 0.0134768  0.01297603 0.0130234  0.0136003\n",
      " 0.01402155 0.01432269 0.01454939 0.01258015 0.01276794 0.01292527\n",
      " 0.01330085 0.01293881 0.01340236 0.01358507 0.01306908 0.01247187\n",
      " 0.01264951 0.01248202 0.01223841 0.01128255 0.01174779 0.01162598\n",
      " 0.01200494 0.0116632  0.01245834 0.01170715 0.0119102  0.0110034\n",
      " 0.01071749 0.0116429  0.01312321 0.01371703 0.01378132 0.01300648\n",
      " 0.01316889 0.01290836 0.01175794 0.01245157 0.01256661 0.0151652\n",
      " 0.01591974 0.01607877 0.01599756 0.01568966 0.01484376 0.01462383\n",
      " 0.01535468 0.01539867 0.01535807 0.0155374  0.01559729 0.01485053\n",
      " 0.01534792 0.01537499 0.01500533 0.0155446  0.01464413 0.01445127\n",
      " 0.01502309 0.01607877 0.01638329 0.01517535 0.01579793 0.01716997\n",
      " 0.01715475 0.01754386 0.01760476 0.03203132 0.03257689 0.03354646\n",
      " 0.03492495 0.03664256 0.03861188 0.04074921 0.04298449 0.04526424\n",
      " 0.04755066 0.04981869 0.05205294 0.05424472 0.05638963 0.05848585\n",
      " 0.06053311 0.0625318  0.06448271 0.06638679]\n",
      "18 day output [[0.06824509]]\n",
      "19day input [0.00912213 0.01079023 0.01072933 0.01091035 0.0117241  0.01208953\n",
      " 0.01263767 0.01351029 0.0137035  0.01315197 0.01224852 0.01334145\n",
      " 0.01334822 0.0134768  0.01297603 0.0130234  0.0136003  0.01402155\n",
      " 0.01432269 0.01454939 0.01258015 0.01276794 0.01292527 0.01330085\n",
      " 0.01293881 0.01340236 0.01358507 0.01306908 0.01247187 0.01264951\n",
      " 0.01248202 0.01223841 0.01128255 0.01174779 0.01162598 0.01200494\n",
      " 0.0116632  0.01245834 0.01170715 0.0119102  0.0110034  0.01071749\n",
      " 0.0116429  0.01312321 0.01371703 0.01378132 0.01300648 0.01316889\n",
      " 0.01290836 0.01175794 0.01245157 0.01256661 0.0151652  0.01591974\n",
      " 0.01607877 0.01599756 0.01568966 0.01484376 0.01462383 0.01535468\n",
      " 0.01539867 0.01535807 0.0155374  0.01559729 0.01485053 0.01534792\n",
      " 0.01537499 0.01500533 0.0155446  0.01464413 0.01445127 0.01502309\n",
      " 0.01607877 0.01638329 0.01517535 0.01579793 0.01716997 0.01715475\n",
      " 0.01754386 0.01760476 0.03203132 0.03257689 0.03354646 0.03492495\n",
      " 0.03664256 0.03861188 0.04074921 0.04298449 0.04526424 0.04755066\n",
      " 0.04981869 0.05205294 0.05424472 0.05638963 0.05848585 0.06053311\n",
      " 0.0625318  0.06448271 0.06638679 0.06824509]\n",
      "19 day output [[0.07005878]]\n",
      "20day input [0.01079023 0.01072933 0.01091035 0.0117241  0.01208953 0.01263767\n",
      " 0.01351029 0.0137035  0.01315197 0.01224852 0.01334145 0.01334822\n",
      " 0.0134768  0.01297603 0.0130234  0.0136003  0.01402155 0.01432269\n",
      " 0.01454939 0.01258015 0.01276794 0.01292527 0.01330085 0.01293881\n",
      " 0.01340236 0.01358507 0.01306908 0.01247187 0.01264951 0.01248202\n",
      " 0.01223841 0.01128255 0.01174779 0.01162598 0.01200494 0.0116632\n",
      " 0.01245834 0.01170715 0.0119102  0.0110034  0.01071749 0.0116429\n",
      " 0.01312321 0.01371703 0.01378132 0.01300648 0.01316889 0.01290836\n",
      " 0.01175794 0.01245157 0.01256661 0.0151652  0.01591974 0.01607877\n",
      " 0.01599756 0.01568966 0.01484376 0.01462383 0.01535468 0.01539867\n",
      " 0.01535807 0.0155374  0.01559729 0.01485053 0.01534792 0.01537499\n",
      " 0.01500533 0.0155446  0.01464413 0.01445127 0.01502309 0.01607877\n",
      " 0.01638329 0.01517535 0.01579793 0.01716997 0.01715475 0.01754386\n",
      " 0.01760476 0.03203132 0.03257689 0.03354646 0.03492495 0.03664256\n",
      " 0.03861188 0.04074921 0.04298449 0.04526424 0.04755066 0.04981869\n",
      " 0.05205294 0.05424472 0.05638963 0.05848585 0.06053311 0.0625318\n",
      " 0.06448271 0.06638679 0.06824509 0.07005878]\n",
      "20 day output [[0.0718291]]\n",
      "21day input [0.01072933 0.01091035 0.0117241  0.01208953 0.01263767 0.01351029\n",
      " 0.0137035  0.01315197 0.01224852 0.01334145 0.01334822 0.0134768\n",
      " 0.01297603 0.0130234  0.0136003  0.01402155 0.01432269 0.01454939\n",
      " 0.01258015 0.01276794 0.01292527 0.01330085 0.01293881 0.01340236\n",
      " 0.01358507 0.01306908 0.01247187 0.01264951 0.01248202 0.01223841\n",
      " 0.01128255 0.01174779 0.01162598 0.01200494 0.0116632  0.01245834\n",
      " 0.01170715 0.0119102  0.0110034  0.01071749 0.0116429  0.01312321\n",
      " 0.01371703 0.01378132 0.01300648 0.01316889 0.01290836 0.01175794\n",
      " 0.01245157 0.01256661 0.0151652  0.01591974 0.01607877 0.01599756\n",
      " 0.01568966 0.01484376 0.01462383 0.01535468 0.01539867 0.01535807\n",
      " 0.0155374  0.01559729 0.01485053 0.01534792 0.01537499 0.01500533\n",
      " 0.0155446  0.01464413 0.01445127 0.01502309 0.01607877 0.01638329\n",
      " 0.01517535 0.01579793 0.01716997 0.01715475 0.01754386 0.01760476\n",
      " 0.03203132 0.03257689 0.03354646 0.03492495 0.03664256 0.03861188\n",
      " 0.04074921 0.04298449 0.04526424 0.04755066 0.04981869 0.05205294\n",
      " 0.05424472 0.05638963 0.05848585 0.06053311 0.0625318  0.06448271\n",
      " 0.06638679 0.06824509 0.07005878 0.0718291 ]\n",
      "21 day output [[0.07355744]]\n",
      "22day input [0.01091035 0.0117241  0.01208953 0.01263767 0.01351029 0.0137035\n",
      " 0.01315197 0.01224852 0.01334145 0.01334822 0.0134768  0.01297603\n",
      " 0.0130234  0.0136003  0.01402155 0.01432269 0.01454939 0.01258015\n",
      " 0.01276794 0.01292527 0.01330085 0.01293881 0.01340236 0.01358507\n",
      " 0.01306908 0.01247187 0.01264951 0.01248202 0.01223841 0.01128255\n",
      " 0.01174779 0.01162598 0.01200494 0.0116632  0.01245834 0.01170715\n",
      " 0.0119102  0.0110034  0.01071749 0.0116429  0.01312321 0.01371703\n",
      " 0.01378132 0.01300648 0.01316889 0.01290836 0.01175794 0.01245157\n",
      " 0.01256661 0.0151652  0.01591974 0.01607877 0.01599756 0.01568966\n",
      " 0.01484376 0.01462383 0.01535468 0.01539867 0.01535807 0.0155374\n",
      " 0.01559729 0.01485053 0.01534792 0.01537499 0.01500533 0.0155446\n",
      " 0.01464413 0.01445127 0.01502309 0.01607877 0.01638329 0.01517535\n",
      " 0.01579793 0.01716997 0.01715475 0.01754386 0.01760476 0.03203132\n",
      " 0.03257689 0.03354646 0.03492495 0.03664256 0.03861188 0.04074921\n",
      " 0.04298449 0.04526424 0.04755066 0.04981869 0.05205294 0.05424472\n",
      " 0.05638963 0.05848585 0.06053311 0.0625318  0.06448271 0.06638679\n",
      " 0.06824509 0.07005878 0.0718291  0.07355744]\n",
      "22 day output [[0.07524527]]\n",
      "23day input [0.0117241  0.01208953 0.01263767 0.01351029 0.0137035  0.01315197\n",
      " 0.01224852 0.01334145 0.01334822 0.0134768  0.01297603 0.0130234\n",
      " 0.0136003  0.01402155 0.01432269 0.01454939 0.01258015 0.01276794\n",
      " 0.01292527 0.01330085 0.01293881 0.01340236 0.01358507 0.01306908\n",
      " 0.01247187 0.01264951 0.01248202 0.01223841 0.01128255 0.01174779\n",
      " 0.01162598 0.01200494 0.0116632  0.01245834 0.01170715 0.0119102\n",
      " 0.0110034  0.01071749 0.0116429  0.01312321 0.01371703 0.01378132\n",
      " 0.01300648 0.01316889 0.01290836 0.01175794 0.01245157 0.01256661\n",
      " 0.0151652  0.01591974 0.01607877 0.01599756 0.01568966 0.01484376\n",
      " 0.01462383 0.01535468 0.01539867 0.01535807 0.0155374  0.01559729\n",
      " 0.01485053 0.01534792 0.01537499 0.01500533 0.0155446  0.01464413\n",
      " 0.01445127 0.01502309 0.01607877 0.01638329 0.01517535 0.01579793\n",
      " 0.01716997 0.01715475 0.01754386 0.01760476 0.03203132 0.03257689\n",
      " 0.03354646 0.03492495 0.03664256 0.03861188 0.04074921 0.04298449\n",
      " 0.04526424 0.04755066 0.04981869 0.05205294 0.05424472 0.05638963\n",
      " 0.05848585 0.06053311 0.0625318  0.06448271 0.06638679 0.06824509\n",
      " 0.07005878 0.0718291  0.07355744 0.07524527]\n",
      "23 day output [[0.07689426]]\n",
      "24day input [0.01208953 0.01263767 0.01351029 0.0137035  0.01315197 0.01224852\n",
      " 0.01334145 0.01334822 0.0134768  0.01297603 0.0130234  0.0136003\n",
      " 0.01402155 0.01432269 0.01454939 0.01258015 0.01276794 0.01292527\n",
      " 0.01330085 0.01293881 0.01340236 0.01358507 0.01306908 0.01247187\n",
      " 0.01264951 0.01248202 0.01223841 0.01128255 0.01174779 0.01162598\n",
      " 0.01200494 0.0116632  0.01245834 0.01170715 0.0119102  0.0110034\n",
      " 0.01071749 0.0116429  0.01312321 0.01371703 0.01378132 0.01300648\n",
      " 0.01316889 0.01290836 0.01175794 0.01245157 0.01256661 0.0151652\n",
      " 0.01591974 0.01607877 0.01599756 0.01568966 0.01484376 0.01462383\n",
      " 0.01535468 0.01539867 0.01535807 0.0155374  0.01559729 0.01485053\n",
      " 0.01534792 0.01537499 0.01500533 0.0155446  0.01464413 0.01445127\n",
      " 0.01502309 0.01607877 0.01638329 0.01517535 0.01579793 0.01716997\n",
      " 0.01715475 0.01754386 0.01760476 0.03203132 0.03257689 0.03354646\n",
      " 0.03492495 0.03664256 0.03861188 0.04074921 0.04298449 0.04526424\n",
      " 0.04755066 0.04981869 0.05205294 0.05424472 0.05638963 0.05848585\n",
      " 0.06053311 0.0625318  0.06448271 0.06638679 0.06824509 0.07005878\n",
      " 0.0718291  0.07355744 0.07524527 0.07689426]\n",
      "24 day output [[0.0785061]]\n",
      "25day input [0.01263767 0.01351029 0.0137035  0.01315197 0.01224852 0.01334145\n",
      " 0.01334822 0.0134768  0.01297603 0.0130234  0.0136003  0.01402155\n",
      " 0.01432269 0.01454939 0.01258015 0.01276794 0.01292527 0.01330085\n",
      " 0.01293881 0.01340236 0.01358507 0.01306908 0.01247187 0.01264951\n",
      " 0.01248202 0.01223841 0.01128255 0.01174779 0.01162598 0.01200494\n",
      " 0.0116632  0.01245834 0.01170715 0.0119102  0.0110034  0.01071749\n",
      " 0.0116429  0.01312321 0.01371703 0.01378132 0.01300648 0.01316889\n",
      " 0.01290836 0.01175794 0.01245157 0.01256661 0.0151652  0.01591974\n",
      " 0.01607877 0.01599756 0.01568966 0.01484376 0.01462383 0.01535468\n",
      " 0.01539867 0.01535807 0.0155374  0.01559729 0.01485053 0.01534792\n",
      " 0.01537499 0.01500533 0.0155446  0.01464413 0.01445127 0.01502309\n",
      " 0.01607877 0.01638329 0.01517535 0.01579793 0.01716997 0.01715475\n",
      " 0.01754386 0.01760476 0.03203132 0.03257689 0.03354646 0.03492495\n",
      " 0.03664256 0.03861188 0.04074921 0.04298449 0.04526424 0.04755066\n",
      " 0.04981869 0.05205294 0.05424472 0.05638963 0.05848585 0.06053311\n",
      " 0.0625318  0.06448271 0.06638679 0.06824509 0.07005878 0.0718291\n",
      " 0.07355744 0.07524527 0.07689426 0.0785061 ]\n"
     ]
    },
    {
     "name": "stdout",
     "output_type": "stream",
     "text": [
      "25 day output [[0.08008262]]\n",
      "26day input [0.01351029 0.0137035  0.01315197 0.01224852 0.01334145 0.01334822\n",
      " 0.0134768  0.01297603 0.0130234  0.0136003  0.01402155 0.01432269\n",
      " 0.01454939 0.01258015 0.01276794 0.01292527 0.01330085 0.01293881\n",
      " 0.01340236 0.01358507 0.01306908 0.01247187 0.01264951 0.01248202\n",
      " 0.01223841 0.01128255 0.01174779 0.01162598 0.01200494 0.0116632\n",
      " 0.01245834 0.01170715 0.0119102  0.0110034  0.01071749 0.0116429\n",
      " 0.01312321 0.01371703 0.01378132 0.01300648 0.01316889 0.01290836\n",
      " 0.01175794 0.01245157 0.01256661 0.0151652  0.01591974 0.01607877\n",
      " 0.01599756 0.01568966 0.01484376 0.01462383 0.01535468 0.01539867\n",
      " 0.01535807 0.0155374  0.01559729 0.01485053 0.01534792 0.01537499\n",
      " 0.01500533 0.0155446  0.01464413 0.01445127 0.01502309 0.01607877\n",
      " 0.01638329 0.01517535 0.01579793 0.01716997 0.01715475 0.01754386\n",
      " 0.01760476 0.03203132 0.03257689 0.03354646 0.03492495 0.03664256\n",
      " 0.03861188 0.04074921 0.04298449 0.04526424 0.04755066 0.04981869\n",
      " 0.05205294 0.05424472 0.05638963 0.05848585 0.06053311 0.0625318\n",
      " 0.06448271 0.06638679 0.06824509 0.07005878 0.0718291  0.07355744\n",
      " 0.07524527 0.07689426 0.0785061  0.08008262]\n",
      "26 day output [[0.08162565]]\n",
      "27day input [0.0137035  0.01315197 0.01224852 0.01334145 0.01334822 0.0134768\n",
      " 0.01297603 0.0130234  0.0136003  0.01402155 0.01432269 0.01454939\n",
      " 0.01258015 0.01276794 0.01292527 0.01330085 0.01293881 0.01340236\n",
      " 0.01358507 0.01306908 0.01247187 0.01264951 0.01248202 0.01223841\n",
      " 0.01128255 0.01174779 0.01162598 0.01200494 0.0116632  0.01245834\n",
      " 0.01170715 0.0119102  0.0110034  0.01071749 0.0116429  0.01312321\n",
      " 0.01371703 0.01378132 0.01300648 0.01316889 0.01290836 0.01175794\n",
      " 0.01245157 0.01256661 0.0151652  0.01591974 0.01607877 0.01599756\n",
      " 0.01568966 0.01484376 0.01462383 0.01535468 0.01539867 0.01535807\n",
      " 0.0155374  0.01559729 0.01485053 0.01534792 0.01537499 0.01500533\n",
      " 0.0155446  0.01464413 0.01445127 0.01502309 0.01607877 0.01638329\n",
      " 0.01517535 0.01579793 0.01716997 0.01715475 0.01754386 0.01760476\n",
      " 0.03203132 0.03257689 0.03354646 0.03492495 0.03664256 0.03861188\n",
      " 0.04074921 0.04298449 0.04526424 0.04755066 0.04981869 0.05205294\n",
      " 0.05424472 0.05638963 0.05848585 0.06053311 0.0625318  0.06448271\n",
      " 0.06638679 0.06824509 0.07005878 0.0718291  0.07355744 0.07524527\n",
      " 0.07689426 0.0785061  0.08008262 0.08162565]\n",
      "27 day output [[0.08313713]]\n",
      "28day input [0.01315197 0.01224852 0.01334145 0.01334822 0.0134768  0.01297603\n",
      " 0.0130234  0.0136003  0.01402155 0.01432269 0.01454939 0.01258015\n",
      " 0.01276794 0.01292527 0.01330085 0.01293881 0.01340236 0.01358507\n",
      " 0.01306908 0.01247187 0.01264951 0.01248202 0.01223841 0.01128255\n",
      " 0.01174779 0.01162598 0.01200494 0.0116632  0.01245834 0.01170715\n",
      " 0.0119102  0.0110034  0.01071749 0.0116429  0.01312321 0.01371703\n",
      " 0.01378132 0.01300648 0.01316889 0.01290836 0.01175794 0.01245157\n",
      " 0.01256661 0.0151652  0.01591974 0.01607877 0.01599756 0.01568966\n",
      " 0.01484376 0.01462383 0.01535468 0.01539867 0.01535807 0.0155374\n",
      " 0.01559729 0.01485053 0.01534792 0.01537499 0.01500533 0.0155446\n",
      " 0.01464413 0.01445127 0.01502309 0.01607877 0.01638329 0.01517535\n",
      " 0.01579793 0.01716997 0.01715475 0.01754386 0.01760476 0.03203132\n",
      " 0.03257689 0.03354646 0.03492495 0.03664256 0.03861188 0.04074921\n",
      " 0.04298449 0.04526424 0.04755066 0.04981869 0.05205294 0.05424472\n",
      " 0.05638963 0.05848585 0.06053311 0.0625318  0.06448271 0.06638679\n",
      " 0.06824509 0.07005878 0.0718291  0.07355744 0.07524527 0.07689426\n",
      " 0.0785061  0.08008262 0.08162565 0.08313713]\n",
      "28 day output [[0.08461891]]\n",
      "29day input [0.01224852 0.01334145 0.01334822 0.0134768  0.01297603 0.0130234\n",
      " 0.0136003  0.01402155 0.01432269 0.01454939 0.01258015 0.01276794\n",
      " 0.01292527 0.01330085 0.01293881 0.01340236 0.01358507 0.01306908\n",
      " 0.01247187 0.01264951 0.01248202 0.01223841 0.01128255 0.01174779\n",
      " 0.01162598 0.01200494 0.0116632  0.01245834 0.01170715 0.0119102\n",
      " 0.0110034  0.01071749 0.0116429  0.01312321 0.01371703 0.01378132\n",
      " 0.01300648 0.01316889 0.01290836 0.01175794 0.01245157 0.01256661\n",
      " 0.0151652  0.01591974 0.01607877 0.01599756 0.01568966 0.01484376\n",
      " 0.01462383 0.01535468 0.01539867 0.01535807 0.0155374  0.01559729\n",
      " 0.01485053 0.01534792 0.01537499 0.01500533 0.0155446  0.01464413\n",
      " 0.01445127 0.01502309 0.01607877 0.01638329 0.01517535 0.01579793\n",
      " 0.01716997 0.01715475 0.01754386 0.01760476 0.03203132 0.03257689\n",
      " 0.03354646 0.03492495 0.03664256 0.03861188 0.04074921 0.04298449\n",
      " 0.04526424 0.04755066 0.04981869 0.05205294 0.05424472 0.05638963\n",
      " 0.05848585 0.06053311 0.0625318  0.06448271 0.06638679 0.06824509\n",
      " 0.07005878 0.0718291  0.07355744 0.07524527 0.07689426 0.0785061\n",
      " 0.08008262 0.08162565 0.08313713 0.08461891]\n",
      "29 day output [[0.08607294]]\n",
      "[[0.03257688507437706], [0.03354645520448685], [0.0349249504506588], [0.03664255887269974], [0.03861187770962715], [0.040749210864305496], [0.0429844856262207], [0.045264244079589844], [0.04755065590143204], [0.04981868714094162], [0.05205294117331505], [0.05424472317099571], [0.05638962611556053], [0.05848585441708565], [0.06053311005234718], [0.06253179907798767], [0.06448271125555038], [0.06638678908348083], [0.06824509054422379], [0.07005877792835236], [0.07182910293340683], [0.07355743646621704], [0.07524526864290237], [0.07689426094293594], [0.07850610464811325], [0.08008261770009995], [0.08162564784288406], [0.0831371322274208], [0.08461891114711761], [0.08607293665409088]]\n"
     ]
    }
   ],
   "source": [
    "#demonstrate prediction for next 10 days\n",
    "from numpy import array\n",
    "lst_output=[]\n",
    "n_steps=100\n",
    "i=0\n",
    "while(i<30):\n",
    "    if(len(temp_input)>100):\n",
    "        #predict(temp input)\n",
    "        x_input=np.array(temp_input[1:])\n",
    "        print(\"{}day input {}\".format(i,x_input))\n",
    "        x_input=x_input.reshape(1,-1)\n",
    "        x_input=x_input.reshape((1,n_steps,1))\n",
    "        #print (x input)\n",
    "        yhat=model.predict(x_input,verbose=0)\n",
    "        print(\"{} day output {}\".format(i,yhat))\n",
    "        temp_input.extend(yhat[0].tolist())\n",
    "        temp_input=temp_input[1:]\n",
    "        #print(temp_input)\n",
    "        lst_output.extend(yhat.tolist())\n",
    "        i=i+1\n",
    "    else:\n",
    "        x_input = x_input.reshape((1, n_steps,1))\n",
    "        yhat=model.predict(x_input,verbose=0)\n",
    "        print(yhat[0])\n",
    "        temp_input.extend(yhat[0].tolist())\n",
    "        print(len(temp_input))\n",
    "        lst_output.extend(yhat.tolist())\n",
    "        i=i+1\n",
    "        \n",
    "print(lst_output)"
   ]
  },
  {
   "cell_type": "code",
   "execution_count": 60,
   "id": "372242bf",
   "metadata": {},
   "outputs": [],
   "source": [
    "day_new=np.arange(1,101)\n",
    "day_pred=np.arange(101,131)"
   ]
  },
  {
   "cell_type": "code",
   "execution_count": 61,
   "id": "bb2482d3",
   "metadata": {},
   "outputs": [],
   "source": [
    "import matplotlib.pyplot as plt"
   ]
  },
  {
   "cell_type": "code",
   "execution_count": 62,
   "id": "85ff8caa",
   "metadata": {},
   "outputs": [
    {
     "data": {
      "text/plain": [
       "1257"
      ]
     },
     "execution_count": 62,
     "metadata": {},
     "output_type": "execute_result"
    }
   ],
   "source": [
    "len(df1)"
   ]
  },
  {
   "cell_type": "code",
   "execution_count": 64,
   "id": "51f0b93e",
   "metadata": {},
   "outputs": [],
   "source": [
    "df3=df1.tolist()\n",
    "df3.extend(lst_output)"
   ]
  },
  {
   "cell_type": "code",
   "execution_count": 66,
   "id": "8d01ae7f",
   "metadata": {},
   "outputs": [
    {
     "data": {
      "text/plain": [
       "[<matplotlib.lines.Line2D at 0x231fb69f590>]"
      ]
     },
     "execution_count": 66,
     "metadata": {},
     "output_type": "execute_result"
    },
    {
     "data": {
      "image/png": "[encoded data removed]",
      "text/plain": [
       "<Figure size 640x480 with 1 Axes>"
      ]
     },
     "metadata": {},
     "output_type": "display_data"
    }
   ],
   "source": [
    "plt.plot(day_new,scaler.inverse_transform(df1[1157:]))\n",
    "plt.plot(day_pred,scaler.inverse_transform(lst_output))"
   ]
  },
  {
   "cell_type": "code",
   "execution_count": 68,
   "id": "9fc08f5c",
   "metadata": {},
   "outputs": [
    {
     "data": {
      "text/plain": [
       "[<matplotlib.lines.Line2D at 0x231f89c9550>]"
      ]
     },
     "execution_count": 68,
     "metadata": {},
     "output_type": "execute_result"
    },
    {
     "data": {
      "image/png": "[encoded data removed]",
      "text/plain": [
       "<Figure size 640x480 with 1 Axes>"
      ]
     },
     "metadata": {},
     "output_type": "display_data"
    }
   ],
   "source": [
    "df3=df1.tolist()\n",
    "df3.extend(lst_output)\n",
    "plt.plot(df3[1000:])"
   ]
  },
  {
   "cell_type": "code",
   "execution_count": 69,
   "id": "62b76d07",
   "metadata": {},
   "outputs": [],
   "source": [
    "df3=scaler.inverse_transform(df3).tolist()"
   ]
  },
  {
   "cell_type": "code",
   "execution_count": 70,
   "id": "824b92d4",
   "metadata": {},
   "outputs": [
    {
     "data": {
      "text/plain": [
       "[<matplotlib.lines.Line2D at 0x231fb7d6290>]"
      ]
     },
     "execution_count": 70,
     "metadata": {},
     "output_type": "execute_result"
    },
    {
     "data": {
      "image/png": "[encoded data removed]",
      "text/plain": [
       "<Figure size 640x480 with 1 Axes>"
      ]
     },
     "metadata": {},
     "output_type": "display_data"
    }
   ],
   "source": [
    "plt.plot(df3)"
   ]
  },
  {
   "cell_type": "code",
   "execution_count": null,
   "id": "50cb7a81",
   "metadata": {},
   "outputs": [],
   "source": [
    "S"
   ]
  }
 ],
 "metadata": {
  "kernelspec": {
   "display_name": "Python 3 (ipykernel)",
   "language": "python",
   "name": "python3"
  },
  "language_info": {
   "codemirror_mode": {
    "name": "ipython",
    "version": 3
   },
   "file_extension": ".py",
   "mimetype": "text/x-python",
   "name": "python",
   "nbconvert_exporter": "python",
   "pygments_lexer": "ipython3",
   "version": "3.11.4"
  }
 },
 "nbformat": 4,
 "nbformat_minor": 5
}
